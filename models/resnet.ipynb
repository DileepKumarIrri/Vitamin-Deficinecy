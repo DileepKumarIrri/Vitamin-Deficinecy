{
 "cells": [
  {
   "cell_type": "code",
   "execution_count": 1,
   "metadata": {},
   "outputs": [],
   "source": [
    "import numpy as np\n",
    "from sklearn.ensemble import VotingClassifier\n",
    "from sklearn.metrics import accuracy_score\n",
    "from sklearn.base import BaseEstimator, ClassifierMixin\n",
    "from tensorflow.keras.models import Sequential\n",
    "from tensorflow.keras.layers import GlobalAveragePooling2D, Dense, Dropout, BatchNormalization\n",
    "from tensorflow.keras.applications import ResNet50, VGG16\n",
    "from tensorflow.keras.preprocessing.image import ImageDataGenerator\n",
    "from tensorflow.keras.wrappers.scikit_learn import KerasClassifier"
   ]
  },
  {
   "cell_type": "code",
   "execution_count": 2,
   "metadata": {},
   "outputs": [],
   "source": [
    "# Define image dimensions and batch size\n",
    "img_height, img_width = 128, 128\n",
    "batch_size = 32\n",
    "# Define directories for training and testing data\n",
    "train_data_dir = \"../dataset/train\"\n",
    "test_data_dir = \"../dataset/test\""
   ]
  },
  {
   "cell_type": "code",
   "execution_count": 3,
   "metadata": {},
   "outputs": [],
   "source": [
    "# Data augmentation for training images\n",
    "train_datagen = ImageDataGenerator(\n",
    "    shear_range=0.2,\n",
    "    zoom_range=0.2,\n",
    "    horizontal_flip=True,\n",
    "    rescale=1./255  # Normalize pixel values\n",
    ")\n",
    "\n",
    "# Data augmentation for testing images (only rescale)\n",
    "test_datagen = ImageDataGenerator(rescale=1./255)\n"
   ]
  },
  {
   "cell_type": "code",
   "execution_count": 4,
   "metadata": {},
   "outputs": [
    {
     "name": "stdout",
     "output_type": "stream",
     "text": [
      "Found 1174 images belonging to 14 classes.\n",
      "Found 428 images belonging to 14 classes.\n"
     ]
    }
   ],
   "source": [
    "# Create data generators for training and testing\n",
    "train_generator = train_datagen.flow_from_directory(\n",
    "    train_data_dir,\n",
    "    target_size=(img_height, img_width),\n",
    "    batch_size=batch_size,\n",
    "    class_mode='categorical'\n",
    ")\n",
    "\n",
    "test_generator = test_datagen.flow_from_directory(\n",
    "    test_data_dir,\n",
    "    target_size=(img_height, img_width),\n",
    "    batch_size=batch_size,\n",
    "    class_mode='categorical',\n",
    "    shuffle=False  # No need to shuffle for evaluation\n",
    ")\n",
    "\n"
   ]
  },
  {
   "cell_type": "code",
   "execution_count": 5,
   "metadata": {},
   "outputs": [],
   "source": [
    "# Define the ResNet50 base model\n",
    "def create_resnet_model():\n",
    "    resnet_model = ResNet50(\n",
    "        input_shape=(img_height, img_width, 3),  # Adjust input shape\n",
    "        include_top=False,  # Exclude the fully-connected layers\n",
    "        weights='imagenet'  # Pre-trained on ImageNet\n",
    "    )\n",
    "    resnet_model.trainable = False\n",
    "\n",
    "    model = Sequential([\n",
    "        resnet_model,\n",
    "        GlobalAveragePooling2D(),\n",
    "        Dense(64, activation='relu'),\n",
    "        BatchNormalization(),\n",
    "        Dropout(0.2),\n",
    "        Dense(14, activation='sigmoid')\n",
    "    ])\n",
    "    model.compile(optimizer='adam', loss='categorical_crossentropy', metrics=['accuracy'])\n",
    "    print(model.summary())\n",
    "    return model\n",
    "\n",
    "\n",
    "\n",
    "\n"
   ]
  },
  {
   "cell_type": "code",
   "execution_count": 6,
   "metadata": {},
   "outputs": [
    {
     "name": "stdout",
     "output_type": "stream",
     "text": [
      "Model: \"sequential\"\n",
      "_________________________________________________________________\n",
      " Layer (type)                Output Shape              Param #   \n",
      "=================================================================\n",
      " resnet50 (Functional)       (None, 4, 4, 2048)        23587712  \n",
      "                                                                 \n",
      " global_average_pooling2d (G  (None, 2048)             0         \n",
      " lobalAveragePooling2D)                                          \n",
      "                                                                 \n",
      " dense (Dense)               (None, 64)                131136    \n",
      "                                                                 \n",
      " batch_normalization (BatchN  (None, 64)               256       \n",
      " ormalization)                                                   \n",
      "                                                                 \n",
      " dropout (Dropout)           (None, 64)                0         \n",
      "                                                                 \n",
      " dense_1 (Dense)             (None, 14)                910       \n",
      "                                                                 \n",
      "=================================================================\n",
      "Total params: 23,720,014\n",
      "Trainable params: 132,174\n",
      "Non-trainable params: 23,587,840\n",
      "_________________________________________________________________\n",
      "None\n",
      "Epoch 1/15\n",
      "37/37 [==============================] - 34s 512ms/step - loss: 2.4413 - accuracy: 0.1678 - val_loss: 2.8088 - val_accuracy: 0.0444\n",
      "Epoch 2/15\n",
      "37/37 [==============================] - 15s 410ms/step - loss: 2.2010 - accuracy: 0.2351 - val_loss: 2.8008 - val_accuracy: 0.0491\n",
      "Epoch 3/15\n",
      "37/37 [==============================] - 15s 408ms/step - loss: 2.0967 - accuracy: 0.2470 - val_loss: 2.7075 - val_accuracy: 0.0724\n",
      "Epoch 4/15\n",
      "37/37 [==============================] - 15s 411ms/step - loss: 2.0197 - accuracy: 0.2683 - val_loss: 2.6907 - val_accuracy: 0.0981\n",
      "Epoch 5/15\n",
      "37/37 [==============================] - 15s 404ms/step - loss: 1.9833 - accuracy: 0.2811 - val_loss: 2.7024 - val_accuracy: 0.0631\n",
      "Epoch 6/15\n",
      "37/37 [==============================] - 15s 412ms/step - loss: 1.9121 - accuracy: 0.3092 - val_loss: 2.6976 - val_accuracy: 0.0724\n",
      "Epoch 7/15\n",
      "37/37 [==============================] - 16s 432ms/step - loss: 1.8792 - accuracy: 0.3492 - val_loss: 2.7775 - val_accuracy: 0.1145\n",
      "Epoch 8/15\n",
      "37/37 [==============================] - 16s 442ms/step - loss: 1.8728 - accuracy: 0.3220 - val_loss: 2.8586 - val_accuracy: 0.0654\n",
      "Epoch 9/15\n",
      "37/37 [==============================] - 15s 403ms/step - loss: 1.8171 - accuracy: 0.3552 - val_loss: 2.7830 - val_accuracy: 0.1121\n",
      "Epoch 10/15\n",
      "37/37 [==============================] - 15s 408ms/step - loss: 1.8036 - accuracy: 0.3560 - val_loss: 2.3729 - val_accuracy: 0.1075\n",
      "Epoch 11/15\n",
      "37/37 [==============================] - 15s 406ms/step - loss: 1.7781 - accuracy: 0.3518 - val_loss: 2.2095 - val_accuracy: 0.1238\n",
      "Epoch 12/15\n",
      "37/37 [==============================] - 15s 404ms/step - loss: 1.7565 - accuracy: 0.3492 - val_loss: 2.7620 - val_accuracy: 0.1682\n",
      "Epoch 13/15\n",
      "37/37 [==============================] - 15s 403ms/step - loss: 1.7485 - accuracy: 0.3612 - val_loss: 2.6644 - val_accuracy: 0.2430\n",
      "Epoch 14/15\n",
      "37/37 [==============================] - 15s 405ms/step - loss: 1.7043 - accuracy: 0.3893 - val_loss: 3.0080 - val_accuracy: 0.2243\n",
      "Epoch 15/15\n",
      "37/37 [==============================] - 15s 410ms/step - loss: 1.6738 - accuracy: 0.3842 - val_loss: 3.2159 - val_accuracy: 0.0607\n"
     ]
    },
    {
     "data": {
      "text/plain": [
       "<keras.callbacks.History at 0x202c0fd7010>"
      ]
     },
     "execution_count": 6,
     "metadata": {},
     "output_type": "execute_result"
    }
   ],
   "source": [
    "#MODEL fit and training\n",
    "model = create_resnet_model()\n",
    "model.fit(train_generator, epochs=15, validation_data=test_generator)\n"
   ]
  },
  {
   "cell_type": "code",
   "execution_count": null,
   "metadata": {},
   "outputs": [],
   "source": [
    "loss,accuracy=model.evaluate(test_generator)\n",
    "print(\"Accuracy: \",{accuracy*100}.2f)"
   ]
  }
 ],
 "metadata": {
  "kernelspec": {
   "display_name": "Python 3",
   "language": "python",
   "name": "python3"
  },
  "language_info": {
   "codemirror_mode": {
    "name": "ipython",
    "version": 3
   },
   "file_extension": ".py",
   "mimetype": "text/x-python",
   "name": "python",
   "nbconvert_exporter": "python",
   "pygments_lexer": "ipython3",
   "version": "3.10.14"
  }
 },
 "nbformat": 4,
 "nbformat_minor": 2
}
