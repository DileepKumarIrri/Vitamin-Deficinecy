{
 "cells": [
  {
   "cell_type": "code",
   "execution_count": 3,
   "metadata": {},
   "outputs": [],
   "source": [
    "import matplotlib.pyplot as plt\n",
    "import tensorflow as tf\n",
    "from tensorflow.keras.models import Sequential\n",
    "from tensorflow.keras.layers import GlobalAveragePooling2D, Dense, Dropout, BatchNormalization\n",
    "from tensorflow.keras.applications import MobileNet\n",
    "from tensorflow.keras.preprocessing.image import ImageDataGenerator\n",
    "from sklearn.metrics import accuracy_score\n",
    "import numpy as np"
   ]
  },
  {
   "cell_type": "code",
   "execution_count": 1,
   "metadata": {},
   "outputs": [],
   "source": [
    "# Define image dimensions and batch size\n",
    "img_height, img_width = 128, 128\n",
    "batch_size = 5\n",
    "\n",
    "# Define directories for training and testing data\n",
    "train_data_dir = \"../dataset/train\"\n",
    "test_data_dir = \"../dataset/test\""
   ]
  },
  {
   "cell_type": "code",
   "execution_count": 4,
   "metadata": {},
   "outputs": [],
   "source": [
    "# Data augmentation for training images\n",
    "train_datagen = ImageDataGenerator(\n",
    "    shear_range=0.2,\n",
    "    zoom_range=0.2,\n",
    "    horizontal_flip=True,\n",
    "    rescale=1./255  # Normalize pixel values\n",
    ")\n",
    "\n",
    "# Data augmentation for testing images (only rescale)\n",
    "test_datagen = ImageDataGenerator(rescale=1./255)\n"
   ]
  },
  {
   "cell_type": "code",
   "execution_count": 4,
   "metadata": {},
   "outputs": [
    {
     "name": "stdout",
     "output_type": "stream",
     "text": [
      "Found 1174 images belonging to 14 classes.\n",
      "Found 428 images belonging to 14 classes.\n"
     ]
    }
   ],
   "source": [
    "\n",
    "# Create data generators for training and testing\n",
    "train_generator = train_datagen.flow_from_directory(\n",
    "    train_data_dir,\n",
    "    target_size=(img_height, img_width),\n",
    "    batch_size=batch_size,\n",
    "    class_mode='categorical'\n",
    ")\n",
    "\n",
    "test_generator = test_datagen.flow_from_directory(\n",
    "    test_data_dir,\n",
    "    target_size=(img_height, img_width),\n",
    "    batch_size=5,\n",
    "    class_mode='categorical',\n",
    "    shuffle=False  # No need to shuffle for evaluation\n",
    ")"
   ]
  },
  {
   "cell_type": "code",
   "execution_count": 5,
   "metadata": {},
   "outputs": [
    {
     "name": "stdout",
     "output_type": "stream",
     "text": [
      "Downloading data from https://storage.googleapis.com/tensorflow/keras-applications/mobilenet/mobilenet_1_0_128_tf_no_top.h5\n",
      "\u001b[1m17225924/17225924\u001b[0m \u001b[32m━━━━━━━━━━━━━━━━━━━━\u001b[0m\u001b[37m\u001b[0m \u001b[1m9s\u001b[0m 0us/step\n"
     ]
    }
   ],
   "source": [
    "\n",
    "# Define the MobileNet base model\n",
    "base_model = MobileNet(\n",
    "    input_shape=(img_height, img_width, 3),  # Adjust input shape\n",
    "    include_top=False,  # Exclude the fully-connected layers\n",
    "    weights='imagenet'  # Pre-trained on ImageNet\n",
    ")\n",
    "\n",
    "# Freeze the base model layers\n",
    "base_model.trainable = False\n"
   ]
  },
  {
   "cell_type": "code",
   "execution_count": 6,
   "metadata": {},
   "outputs": [],
   "source": [
    "\n",
    "# Create the classification head\n",
    "model = Sequential([\n",
    "    base_model,\n",
    "    GlobalAveragePooling2D(),\n",
    "    Dense(64, activation='relu'),\n",
    "    BatchNormalization(),\n",
    "    Dropout(0.2),\n",
    "    Dense(14, activation='sigmoid')\n",
    "])\n",
    "\n",
    "# Compile the model\n",
    "model.compile(optimizer='adam', loss='categorical_crossentropy', metrics=['accuracy'])\n"
   ]
  },
  {
   "cell_type": "code",
   "execution_count": 7,
   "metadata": {},
   "outputs": [
    {
     "name": "stdout",
     "output_type": "stream",
     "text": [
      "Epoch 1/15\n",
      "235/235 [==============================] - 29s 79ms/step - loss: 1.8506 - accuracy: 0.3893 - val_loss: 1.0801 - val_accuracy: 0.6636\n",
      "Epoch 2/15\n",
      "235/235 [==============================] - 17s 72ms/step - loss: 1.1450 - accuracy: 0.6371 - val_loss: 1.0094 - val_accuracy: 0.6682\n",
      "Epoch 3/15\n",
      "235/235 [==============================] - 16s 70ms/step - loss: 0.9177 - accuracy: 0.7223 - val_loss: 0.8295 - val_accuracy: 0.7360\n",
      "Epoch 4/15\n",
      "235/235 [==============================] - 17s 70ms/step - loss: 0.8178 - accuracy: 0.7453 - val_loss: 0.8471 - val_accuracy: 0.7243\n",
      "Epoch 5/15\n",
      "235/235 [==============================] - 16s 70ms/step - loss: 0.7570 - accuracy: 0.7624 - val_loss: 0.8486 - val_accuracy: 0.7570\n",
      "Epoch 6/15\n",
      "235/235 [==============================] - 17s 72ms/step - loss: 0.6437 - accuracy: 0.8211 - val_loss: 0.7824 - val_accuracy: 0.7500\n",
      "Epoch 7/15\n",
      "235/235 [==============================] - 16s 70ms/step - loss: 0.5932 - accuracy: 0.8118 - val_loss: 0.7931 - val_accuracy: 0.7523\n",
      "Epoch 8/15\n",
      "235/235 [==============================] - 16s 69ms/step - loss: 0.5816 - accuracy: 0.8186 - val_loss: 0.8680 - val_accuracy: 0.7407\n",
      "Epoch 9/15\n",
      "235/235 [==============================] - 16s 70ms/step - loss: 0.6022 - accuracy: 0.8160 - val_loss: 0.7511 - val_accuracy: 0.7734\n",
      "Epoch 10/15\n",
      "235/235 [==============================] - 16s 69ms/step - loss: 0.5545 - accuracy: 0.8382 - val_loss: 0.7941 - val_accuracy: 0.7757\n",
      "Epoch 11/15\n",
      "235/235 [==============================] - 17s 70ms/step - loss: 0.5490 - accuracy: 0.8313 - val_loss: 0.7306 - val_accuracy: 0.8154\n",
      "Epoch 12/15\n",
      "235/235 [==============================] - 16s 69ms/step - loss: 0.5430 - accuracy: 0.8339 - val_loss: 0.7706 - val_accuracy: 0.8061\n",
      "Epoch 13/15\n",
      "235/235 [==============================] - 17s 73ms/step - loss: 0.4658 - accuracy: 0.8620 - val_loss: 0.8626 - val_accuracy: 0.7804\n",
      "Epoch 14/15\n",
      "235/235 [==============================] - 16s 70ms/step - loss: 0.4735 - accuracy: 0.8416 - val_loss: 0.9058 - val_accuracy: 0.7780\n",
      "Epoch 15/15\n",
      "235/235 [==============================] - 16s 70ms/step - loss: 0.4717 - accuracy: 0.8475 - val_loss: 0.8042 - val_accuracy: 0.7827\n"
     ]
    }
   ],
   "source": [
    "# Train the model\n",
    "history = model.fit(\n",
    "    train_generator,\n",
    "    steps_per_epoch=len(train_generator),\n",
    "    epochs=15,\n",
    "    validation_data=test_generator,\n",
    "    validation_steps=len(test_generator)\n",
    ")\n",
    "\n",
    "\n"
   ]
  },
  {
   "cell_type": "code",
   "execution_count": 8,
   "metadata": {},
   "outputs": [
    {
     "name": "stdout",
     "output_type": "stream",
     "text": [
      "86/86 [==============================] - 3s 24ms/step\n"
     ]
    }
   ],
   "source": [
    "# predicting train dataset \n",
    "test_pridiction = model.predict(test_generator)\n",
    "\n",
    "# true labels \n",
    "test_true_labels = test_generator.classes\n",
    "\n",
    "\n"
   ]
  },
  {
   "cell_type": "code",
   "execution_count": 9,
   "metadata": {},
   "outputs": [
    {
     "name": "stdout",
     "output_type": "stream",
     "text": [
      "(428, 14)\n",
      "(428,)\n"
     ]
    }
   ],
   "source": [
    "print( test_pridiction.shape)\n",
    "print( test_true_labels.shape)\n",
    "\n",
    "\n"
   ]
  },
  {
   "cell_type": "code",
   "execution_count": 10,
   "metadata": {},
   "outputs": [
    {
     "name": "stdout",
     "output_type": "stream",
     "text": [
      "0.7827102803738317\n"
     ]
    }
   ],
   "source": [
    "#calculating accuracy\n",
    "accuracy = accuracy_score(test_true_labels, np.argmax(test_pridiction, axis=1))\n",
    "print(accuracy)"
   ]
  }
 ],
 "metadata": {
  "kernelspec": {
   "display_name": "myenv",
   "language": "python",
   "name": "python3"
  },
  "language_info": {
   "codemirror_mode": {
    "name": "ipython",
    "version": 3
   },
   "file_extension": ".py",
   "mimetype": "text/x-python",
   "name": "python",
   "nbconvert_exporter": "python",
   "pygments_lexer": "ipython3",
   "version": "3.10.16"
  }
 },
 "nbformat": 4,
 "nbformat_minor": 2
}
