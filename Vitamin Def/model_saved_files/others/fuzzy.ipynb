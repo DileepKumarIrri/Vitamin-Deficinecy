{
 "cells": [
  {
   "cell_type": "code",
   "execution_count": 1,
   "metadata": {},
   "outputs": [
    {
     "name": "stdout",
     "output_type": "stream",
     "text": [
      "[[0.0, 0.0, 0.0, 0.0, 0.0, 0.0, 0.0, 0.0, 0.0, 0.0, 0.0, 0.0, 0.0, 0.0, 0.0, 0.0, 0.0, 0.0, 0.0, 0.0, 0.0, 0.0, 0.0, 0.0], [0.0, 0.0, 0.0, 0.0, 0.0, 0.0, 0.0, 0.0, 0.0, 0.0, 0.0, 0.0, 0.0, 0.0, 0.0, 0.0, 0.0, 0.0, 0.0, 0.0, 0.0, 0.0, 0.0, 0.0]]\n",
      "Final classification: [1, 1]\n"
     ]
    }
   ],
   "source": [
    "import numpy as np\n",
    "import skfuzzy as fuzz\n",
    "\n",
    "# Define fuzzy sets for classes based on probability ranges\n",
    "# You may need to adjust these ranges based on your specific problem\n",
    "probabilities = [[9.719550609588623047e-01, 7.565616369247436523e-01, 9.174848198890686035e-01,\n",
    "    4.920566976070404053e-01, 3.085645735263824463e-01, 5.866732001304626465e-01,\n",
    "    3.890978097915649414e-01, 1.821730285882949829e-01, 5.726953744888305664e-01,\n",
    "    1.151409298181533813e-01, 3.688287436962127686e-01, 2.504866421222686768e-01\n",
    "],[9.719550609588623047e-01, 7.565616369247436523e-01, 9.174848198890686035e-01,\n",
    "    4.920566976070404053e-01, 3.085645735263824463e-01, 5.866732001304626465e-01,\n",
    "    3.890978097915649414e-01, 1.821730285882949829e-01, 5.726953744888305664e-01,\n",
    "    1.151409298181533813e-01, 3.688287436962127686e-01, 2.504866421222686768e-01\n",
    "]]\n",
    "    \n",
    "\n",
    "# Define fuzzy sets for classes\n",
    "classes = np.arange(1, 13, 1)\n",
    "\n",
    "# Define fuzzy membership functions for classes\n",
    "# You may need to adjust these membership functions based on your specific problem\n",
    "class_mfs = []\n",
    "for i in range(12):\n",
    "    class_mfs.append(fuzz.trimf(classes, [i + 0.5, i + 1, i + 1.5]))\n",
    "\n",
    "# Calculate membership degrees for each class based on probabilities\n",
    "membership_degrees = []\n",
    "result=[]\n",
    "for j in probabilities:\n",
    "    for i in range(12):\n",
    "        membership_degrees.append(fuzz.interp_membership(classes, class_mfs[i], j[i]))\n",
    "    result.append(membership_degrees)\n",
    "print(result)\n",
    "# Define and train a neural network to refine fuzzy predictions (optional)\n",
    "# You can use any neural network architecture and training method suitable for your problem\n",
    "\n",
    "# Combine fuzzy predictions with neural network predictions to get final classification\n",
    "# You may need to adjust this combination method based on your specific problem\n",
    "final_classification=[]\n",
    "for i in result:\n",
    "    final_classification.append( np.argmax(i) + 1 ) # Adding 1 to convert index to class label\n",
    "\n",
    "print(\"Final classification:\", final_classification)\n"
   ]
  }
 ],
 "metadata": {
  "kernelspec": {
   "display_name": "Python 3",
   "language": "python",
   "name": "python3"
  },
  "language_info": {
   "codemirror_mode": {
    "name": "ipython",
    "version": 3
   },
   "file_extension": ".py",
   "mimetype": "text/x-python",
   "name": "python",
   "nbconvert_exporter": "python",
   "pygments_lexer": "ipython3",
   "version": "3.10.14"
  }
 },
 "nbformat": 4,
 "nbformat_minor": 2
}
