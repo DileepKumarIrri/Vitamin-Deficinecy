{
 "cells": [
  {
   "cell_type": "code",
   "execution_count": 2,
   "metadata": {},
   "outputs": [],
   "source": [
    "import numpy as np\n",
    "from sklearn.ensemble import VotingClassifier\n",
    "from sklearn.metrics import accuracy_score\n",
    "from sklearn.base import BaseEstimator, ClassifierMixin\n",
    "from tensorflow.keras.models import Sequential\n",
    "from tensorflow.keras.layers import GlobalAveragePooling2D, Dense, Dropout, BatchNormalization\n",
    "from tensorflow.keras.applications import ResNet50, VGG16\n",
    "from tensorflow.keras.preprocessing.image import ImageDataGenerator\n",
    "from tensorflow.keras.wrappers.scikit_learn import KerasClassifier"
   ]
  },
  {
   "cell_type": "code",
   "execution_count": 3,
   "metadata": {},
   "outputs": [],
   "source": [
    "# Define image dimensions and batch size\n",
    "img_height, img_width = 128, 128\n",
    "batch_size = 32\n",
    "# Define directories for training and testing data\n",
    "train_data_dir = \"dataset/train\"\n",
    "test_data_dir = \"dataset/test\""
   ]
  },
  {
   "cell_type": "code",
   "execution_count": 4,
   "metadata": {},
   "outputs": [],
   "source": [
    "# Data augmentation for training images\n",
    "train_datagen = ImageDataGenerator(\n",
    "    shear_range=0.2,\n",
    "    zoom_range=0.2,\n",
    "    horizontal_flip=True,\n",
    "    rescale=1./255  # Normalize pixel values\n",
    ")\n",
    "\n",
    "# Data augmentation for testing images (only rescale)\n",
    "test_datagen = ImageDataGenerator(rescale=1./255)\n"
   ]
  },
  {
   "cell_type": "code",
   "execution_count": 5,
   "metadata": {},
   "outputs": [
    {
     "name": "stdout",
     "output_type": "stream",
     "text": [
      "Found 1383 images belonging to 14 classes.\n",
      "Found 1417 images belonging to 14 classes.\n"
     ]
    }
   ],
   "source": [
    "# Create data generators for training and testing\n",
    "train_generator = train_datagen.flow_from_directory(\n",
    "    train_data_dir,\n",
    "    target_size=(img_height, img_width),\n",
    "    batch_size=batch_size,\n",
    "    class_mode='categorical'\n",
    ")\n",
    "\n",
    "test_generator = test_datagen.flow_from_directory(\n",
    "    test_data_dir,\n",
    "    target_size=(img_height, img_width),\n",
    "    batch_size=batch_size,\n",
    "    class_mode='categorical',\n",
    "    shuffle=False  # No need to shuffle for evaluation\n",
    ")\n",
    "\n"
   ]
  },
  {
   "cell_type": "code",
   "execution_count": 6,
   "metadata": {},
   "outputs": [],
   "source": [
    "# # Define the ResNet50 base model\n",
    "# def create_resnet_model():\n",
    "#     resnet_model = ResNet50(\n",
    "#         input_shape=(img_height, img_width, 3),  # Adjust input shape\n",
    "#         include_top=False,  # Exclude the fully-connected layers\n",
    "#         weights='imagenet'  # Pre-trained on ImageNet\n",
    "#     )\n",
    "#     resnet_model.trainable = False\n",
    "\n",
    "#     model = Sequential([\n",
    "#         resnet_model,\n",
    "#         GlobalAveragePooling2D(),\n",
    "#         Dense(64, activation='relu'),\n",
    "#         BatchNormalization(),\n",
    "#         Dropout(0.2),\n",
    "#         Dense(14, activation='sigmoid')\n",
    "#     ])\n",
    "#     model.compile(optimizer='adam', loss='categorical_crossentropy', metrics=['accuracy'])\n",
    "#     print(model.summary())\n",
    "#     return model\n",
    "\n",
    "# #MODEL fit\n",
    "# model = create_resnet_model()\n",
    "# model.fit(train_generator, epochs=10, validation_data=test_generator)\n",
    "# #predict\n",
    "# y_pred = model.predict(test_generator)\n",
    "# y_pred = np.argmax(y_pred, axis=1)\n",
    "# y_true = test_generator.classes\n",
    "# #accuracy\n",
    "# accuracy = accuracy_score(y_true, y_pred)\n",
    "# print(f\"Accuracy: {accuracy}\")\n",
    "\n"
   ]
  },
  {
   "cell_type": "code",
   "execution_count": 7,
   "metadata": {},
   "outputs": [
    {
     "name": "stdout",
     "output_type": "stream",
     "text": [
      "Downloading data from https://storage.googleapis.com/tensorflow/keras-applications/vgg16/vgg16_weights_tf_dim_ordering_tf_kernels_notop.h5\n",
      "58889256/58889256 [==============================] - 11s 0us/step\n",
      "Epoch 1/10\n",
      "44/44 [==============================] - 36s 544ms/step - loss: 2.3050 - accuracy: 0.2458 - val_loss: 2.3794 - val_accuracy: 0.1842\n",
      "Epoch 2/10\n",
      "44/44 [==============================] - 20s 463ms/step - loss: 1.6747 - accuracy: 0.4519 - val_loss: 2.1746 - val_accuracy: 0.3049\n",
      "Epoch 3/10\n",
      "44/44 [==============================] - 21s 485ms/step - loss: 1.4381 - accuracy: 0.5192 - val_loss: 1.9357 - val_accuracy: 0.4375\n",
      "Epoch 4/10\n",
      "44/44 [==============================] - 20s 457ms/step - loss: 1.2730 - accuracy: 0.6001 - val_loss: 1.7483 - val_accuracy: 0.5208\n",
      "Epoch 5/10\n",
      "44/44 [==============================] - 28s 638ms/step - loss: 1.1626 - accuracy: 0.6291 - val_loss: 1.5184 - val_accuracy: 0.5787\n",
      "Epoch 6/10\n",
      "44/44 [==============================] - 26s 580ms/step - loss: 1.0736 - accuracy: 0.6558 - val_loss: 1.3715 - val_accuracy: 0.6394\n",
      "Epoch 7/10\n",
      "44/44 [==============================] - 23s 523ms/step - loss: 0.9731 - accuracy: 0.6949 - val_loss: 1.1615 - val_accuracy: 0.7142\n",
      "Epoch 8/10\n",
      "44/44 [==============================] - 20s 456ms/step - loss: 0.9382 - accuracy: 0.7035 - val_loss: 1.0750 - val_accuracy: 0.6987\n",
      "Epoch 9/10\n",
      "44/44 [==============================] - 20s 455ms/step - loss: 0.8782 - accuracy: 0.7108 - val_loss: 1.0200 - val_accuracy: 0.6923\n",
      "Epoch 10/10\n",
      "44/44 [==============================] - 21s 476ms/step - loss: 0.8076 - accuracy: 0.7440 - val_loss: 1.0529 - val_accuracy: 0.6810\n",
      "45/45 [==============================] - 5s 103ms/step\n",
      "Accuracy: 0.681016231474947\n"
     ]
    }
   ],
   "source": [
    "# Define the VGG16 base model\n",
    "def create_vgg_model():\n",
    "    vgg_model = VGG16(\n",
    "        input_shape=(img_height, img_width, 3),  # Adjust input shape\n",
    "        include_top=False,  # Exclude the fully-connected layers\n",
    "        weights='imagenet'  # Pre-trained on ImageNet\n",
    "    )\n",
    "    vgg_model.trainable = False\n",
    "\n",
    "    model = Sequential([\n",
    "        vgg_model,\n",
    "        GlobalAveragePooling2D(),\n",
    "        Dense(64, activation='relu'),\n",
    "        BatchNormalization(),\n",
    "        Dropout(0.2),\n",
    "        Dense(14, activation='sigmoid')\n",
    "    ])\n",
    "    model.compile(optimizer='adam', loss='categorical_crossentropy', metrics=['accuracy'])\n",
    "    return model\n",
    "\n",
    "\n",
    "#MODEL fit\n",
    "model = create_vgg_model()\n",
    "model.fit(train_generator, epochs=10, validation_data=test_generator)\n",
    "#predict\n",
    "y_pred = model.predict(test_generator)\n",
    "y_pred = np.argmax(y_pred, axis=1)\n",
    "y_true = test_generator.classes\n",
    "#accuracy\n",
    "accuracy = accuracy_score(y_true, y_pred)\n",
    "print(f\"Accuracy: {accuracy}\")"
   ]
  },
  {
   "cell_type": "code",
   "execution_count": 8,
   "metadata": {},
   "outputs": [],
   "source": [
    "# Wrap Keras models as scikit-learn compatible classifiers\n",
    "# resnet_classifier = KerasClassifier(build_fn=create_resnet_model, epochs=8, batch_size=batch_size, verbose=0)\n",
    "# vgg_classifier = KerasClassifier(build_fn=create_vgg_model, epochs=8, batch_size=batch_size, verbose=0)\n"
   ]
  },
  {
   "cell_type": "code",
   "execution_count": 9,
   "metadata": {},
   "outputs": [],
   "source": [
    "# Combine the models into a voting ensemble\n",
    "# ensemble = VotingClassifier(estimators=[('resnet', resnet_classifier), ('vgg', vgg_classifier)], voting='hard')\n"
   ]
  },
  {
   "cell_type": "code",
   "execution_count": 10,
   "metadata": {},
   "outputs": [],
   "source": [
    "\n",
    "# # Train the ensemble\n",
    "# ensemble.fit(train_features, train_labels)\n"
   ]
  },
  {
   "cell_type": "code",
   "execution_count": 11,
   "metadata": {},
   "outputs": [],
   "source": [
    "# # Evaluate the ensemble\n",
    "# predictions = ensemble.predict(test_generator)\n",
    "# true_labels = test_generator.classes\n",
    "# accuracy = accuracy_score(true_labels, predictions)\n",
    "# print(\"Ensemble Accuracy:\", accuracy)\n"
   ]
  }
 ],
 "metadata": {
  "kernelspec": {
   "display_name": "Python 3",
   "language": "python",
   "name": "python3"
  },
  "language_info": {
   "codemirror_mode": {
    "name": "ipython",
    "version": 3
   },
   "file_extension": ".py",
   "mimetype": "text/x-python",
   "name": "python",
   "nbconvert_exporter": "python",
   "pygments_lexer": "ipython3",
   "version": "3.10.14"
  }
 },
 "nbformat": 4,
 "nbformat_minor": 2
}
