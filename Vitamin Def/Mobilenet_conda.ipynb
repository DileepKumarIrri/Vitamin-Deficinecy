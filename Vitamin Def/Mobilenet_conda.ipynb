{
 "cells": [
  {
   "cell_type": "code",
   "execution_count": 1,
   "metadata": {},
   "outputs": [],
   "source": [
    "# import matplotlib.pyplot as plt\n",
    "import tensorflow as tf\n",
    "from tensorflow.keras.models import Sequential\n",
    "from tensorflow.keras.layers import GlobalAveragePooling2D, Dense, Dropout, BatchNormalization\n",
    "from tensorflow.keras.applications import MobileNet\n",
    "from tensorflow.keras.preprocessing.image import ImageDataGenerator\n",
    "from sklearn.metrics import accuracy_score\n",
    "import numpy as np"
   ]
  },
  {
   "cell_type": "code",
   "execution_count": 2,
   "metadata": {},
   "outputs": [],
   "source": [
    "# Define image dimensions and batch size\n",
    "img_height, img_width = 128, 128\n",
    "batch_size = 5\n",
    "\n",
    "# Define directories for training and testing data\n",
    "train_data_dir = \"dataset/train\"\n",
    "test_data_dir = \"dataset/test\""
   ]
  },
  {
   "cell_type": "code",
   "execution_count": 3,
   "metadata": {},
   "outputs": [],
   "source": [
    "# Data augmentation for training images\n",
    "train_datagen = ImageDataGenerator(\n",
    "    shear_range=0.2,\n",
    "    zoom_range=0.2,\n",
    "    horizontal_flip=True,\n",
    "    rescale=1./255  # Normalize pixel values\n",
    ")\n",
    "\n",
    "# Data augmentation for testing images (only rescale)\n",
    "test_datagen = ImageDataGenerator(rescale=1./255)\n"
   ]
  },
  {
   "cell_type": "code",
   "execution_count": 4,
   "metadata": {},
   "outputs": [
    {
     "name": "stdout",
     "output_type": "stream",
     "text": [
      "Found 1383 images belonging to 14 classes.\n",
      "Found 1417 images belonging to 14 classes.\n"
     ]
    }
   ],
   "source": [
    "\n",
    "# Create data generators for training and testing\n",
    "train_generator = train_datagen.flow_from_directory(\n",
    "    train_data_dir,\n",
    "    target_size=(img_height, img_width),\n",
    "    batch_size=batch_size,\n",
    "    class_mode='categorical'\n",
    ")\n",
    "\n",
    "test_generator = test_datagen.flow_from_directory(\n",
    "    test_data_dir,\n",
    "    target_size=(img_height, img_width),\n",
    "    batch_size=1,\n",
    "    class_mode='categorical',\n",
    "    shuffle=False  # No need to shuffle for evaluation\n",
    ")"
   ]
  },
  {
   "cell_type": "code",
   "execution_count": 5,
   "metadata": {},
   "outputs": [],
   "source": [
    "\n",
    "# Define the MobileNet base model\n",
    "base_model = MobileNet(\n",
    "    input_shape=(img_height, img_width, 3),  # Adjust input shape\n",
    "    include_top=False,  # Exclude the fully-connected layers\n",
    "    weights='imagenet'  # Pre-trained on ImageNet\n",
    ")\n",
    "\n",
    "# Freeze the base model layers\n",
    "base_model.trainable = False\n"
   ]
  },
  {
   "cell_type": "code",
   "execution_count": 6,
   "metadata": {},
   "outputs": [],
   "source": [
    "\n",
    "# Create the classification head\n",
    "model = Sequential([\n",
    "    base_model,\n",
    "    GlobalAveragePooling2D(),\n",
    "    Dense(64, activation='relu'),\n",
    "    BatchNormalization(),\n",
    "    Dropout(0.2),\n",
    "    Dense(14, activation='sigmoid')\n",
    "])\n",
    "\n",
    "# Compile the model\n",
    "model.compile(optimizer='adam', loss='categorical_crossentropy', metrics=['accuracy'])\n"
   ]
  },
  {
   "cell_type": "code",
   "execution_count": 7,
   "metadata": {},
   "outputs": [
    {
     "name": "stdout",
     "output_type": "stream",
     "text": [
      "Epoch 1/5\n",
      "277/277 [==============================] - 92s 239ms/step - loss: 1.7444 - accuracy: 0.4266 - val_loss: 0.9700 - val_accuracy: 0.7022\n",
      "Epoch 2/5\n",
      "277/277 [==============================] - 49s 177ms/step - loss: 1.0870 - accuracy: 0.6565 - val_loss: 0.7077 - val_accuracy: 0.8130\n",
      "Epoch 3/5\n",
      "277/277 [==============================] - 42s 151ms/step - loss: 0.8754 - accuracy: 0.7209 - val_loss: 0.6172 - val_accuracy: 0.8504\n",
      "Epoch 4/5\n",
      "277/277 [==============================] - 41s 149ms/step - loss: 0.7748 - accuracy: 0.7592 - val_loss: 0.5752 - val_accuracy: 0.8553\n",
      "Epoch 5/5\n",
      "277/277 [==============================] - 40s 145ms/step - loss: 0.6547 - accuracy: 0.8062 - val_loss: 0.5439 - val_accuracy: 0.8638\n",
      "1417/1417 [==============================] - 27s 19ms/step - loss: 0.5439 - accuracy: 0.8638\n"
     ]
    },
    {
     "data": {
      "text/plain": [
       "[0.5438922047615051, 0.8637967705726624]"
      ]
     },
     "execution_count": 7,
     "metadata": {},
     "output_type": "execute_result"
    }
   ],
   "source": [
    "# Train the model\n",
    "history = model.fit(\n",
    "    train_generator,\n",
    "    steps_per_epoch=len(train_generator),\n",
    "    epochs=5,\n",
    "    validation_data=test_generator,\n",
    "    validation_steps=len(test_generator)\n",
    ")\n",
    "\n",
    "# Evaluate the model on the test set\n",
    "model.evaluate(test_generator)\n"
   ]
  },
  {
   "cell_type": "code",
   "execution_count": 8,
   "metadata": {},
   "outputs": [],
   "source": [
    "\n",
    "# Save the model\n",
    "# model.save(\"model/Mobilenet1.h5\")\n",
    "\n",
    "# Plot training history\n",
    "# plt.style.use(\"ggplot\")\n",
    "# fig, ax = plt.subplots(2, 1)\n",
    "# ax[0].plot(history.history['accuracy'], color='b', label=\"Training Accuracy\")\n",
    "# ax[0].plot(history.history['val_accuracy'], color='r', label=\"Validation Accuracy\")\n",
    "# legend = ax[0].legend(loc='best', shadow=True)\n",
    "\n",
    "# ax[1].plot(history.history['loss'], color='b', label=\"Training Loss\")\n",
    "# ax[1].plot(history.history['val_loss'], color='r', label=\"Validation Loss\")\n",
    "# legend = ax[1].legend(loc='best', shadow=True)\n",
    "# plt.savefig(\"model/mobilenet_acc.png\")"
   ]
  },
  {
   "cell_type": "code",
   "execution_count": 9,
   "metadata": {},
   "outputs": [
    {
     "name": "stdout",
     "output_type": "stream",
     "text": [
      "1417/1417 [==============================] - 23s 15ms/step\n"
     ]
    }
   ],
   "source": [
    "\n",
    "# Get the true labels of the test data\n",
    "true_labels = test_generator.classes\n",
    "\n",
    "# Make predictions on the test data\n",
    "predictions = model.predict(test_generator)\n"
   ]
  },
  {
   "cell_type": "code",
   "execution_count": 10,
   "metadata": {},
   "outputs": [
    {
     "name": "stdout",
     "output_type": "stream",
     "text": [
      "[ 0  2  2 ... 13 13 13] [ 0  0  0 ... 13 13 13]\n"
     ]
    }
   ],
   "source": [
    "# Convert predictions from probabilities to class labels\n",
    "predicted_labels = np.argmax(predictions, axis=1)\n",
    "print(predicted_labels, true_labels)\n"
   ]
  },
  {
   "cell_type": "code",
   "execution_count": 11,
   "metadata": {},
   "outputs": [
    {
     "name": "stdout",
     "output_type": "stream",
     "text": [
      "Accuracy: 0.8637967537050106\n"
     ]
    }
   ],
   "source": [
    "\n",
    "\n",
    "# Calculate accuracy\n",
    "accuracy = accuracy_score(true_labels, predicted_labels)\n",
    "print(\"Accuracy:\", accuracy)"
   ]
  }
 ],
 "metadata": {
  "kernelspec": {
   "display_name": "Python 3",
   "language": "python",
   "name": "python3"
  },
  "language_info": {
   "codemirror_mode": {
    "name": "ipython",
    "version": 3
   },
   "file_extension": ".py",
   "mimetype": "text/x-python",
   "name": "python",
   "nbconvert_exporter": "python",
   "pygments_lexer": "ipython3",
   "version": "3.10.14"
  }
 },
 "nbformat": 4,
 "nbformat_minor": 2
}
