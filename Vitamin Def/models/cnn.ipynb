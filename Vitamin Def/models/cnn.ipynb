{
 "cells": [
  {
   "cell_type": "code",
   "execution_count": 15,
   "metadata": {},
   "outputs": [],
   "source": [
    "import matplotlib.pyplot as plt\n",
    "import tensorflow as tf\n",
    "from tensorflow.keras.models import Sequential\n",
    "from tensorflow.keras.layers import Conv2D, MaxPooling2D, Flatten, Dense, Dropout\n",
    "from tensorflow.keras.layers import  Dense, Dropout\n",
    "from tensorflow.keras.preprocessing.image import ImageDataGenerator\n",
    "from sklearn.metrics import accuracy_score\n",
    "import numpy as np"
   ]
  },
  {
   "cell_type": "code",
   "execution_count": 16,
   "metadata": {},
   "outputs": [],
   "source": [
    "# Define image dimensions and batch size\n",
    "img_height, img_width = 128, 128\n",
    "batch_size = 20\n",
    "\n",
    "# Define directories for training and testing data\n",
    "train_data_dir = \"../dataset/train\"\n",
    "test_data_dir = \"../dataset/test\""
   ]
  },
  {
   "cell_type": "code",
   "execution_count": 17,
   "metadata": {},
   "outputs": [],
   "source": [
    "# Data augmentation for training images\n",
    "train_datagen = ImageDataGenerator(\n",
    "    shear_range=0.2,\n",
    "    zoom_range=0.2,\n",
    "    horizontal_flip=True,\n",
    "    rescale=1./255  # Normalize pixel values\n",
    ")\n",
    "\n",
    "# Data augmentation for testing images (only rescale)\n",
    "test_datagen = ImageDataGenerator(rescale=1./255)\n"
   ]
  },
  {
   "cell_type": "code",
   "execution_count": 18,
   "metadata": {},
   "outputs": [
    {
     "name": "stdout",
     "output_type": "stream",
     "text": [
      "Found 1174 images belonging to 14 classes.\n",
      "Found 428 images belonging to 14 classes.\n"
     ]
    }
   ],
   "source": [
    "\n",
    "# Create data generators for training and testing\n",
    "train_generator = train_datagen.flow_from_directory(\n",
    "    train_data_dir,\n",
    "    target_size=(img_height, img_width),\n",
    "    batch_size=batch_size,\n",
    "    class_mode='categorical'\n",
    ")\n",
    "\n",
    "test_generator = test_datagen.flow_from_directory(\n",
    "    test_data_dir,\n",
    "    target_size=(img_height, img_width),\n",
    "    batch_size=5,\n",
    "    class_mode='categorical',\n",
    "    shuffle=False  # No need to shuffle for evaluation\n",
    ")"
   ]
  },
  {
   "cell_type": "code",
   "execution_count": 19,
   "metadata": {},
   "outputs": [
    {
     "name": "stdout",
     "output_type": "stream",
     "text": [
      "Model: \"sequential_2\"\n",
      "_________________________________________________________________\n",
      " Layer (type)                Output Shape              Param #   \n",
      "=================================================================\n",
      " conv2d_6 (Conv2D)           (None, 126, 126, 32)      896       \n",
      "                                                                 \n",
      " max_pooling2d_6 (MaxPooling  (None, 63, 63, 32)       0         \n",
      " 2D)                                                             \n",
      "                                                                 \n",
      " conv2d_7 (Conv2D)           (None, 61, 61, 64)        18496     \n",
      "                                                                 \n",
      " max_pooling2d_7 (MaxPooling  (None, 30, 30, 64)       0         \n",
      " 2D)                                                             \n",
      "                                                                 \n",
      " conv2d_8 (Conv2D)           (None, 28, 28, 128)       73856     \n",
      "                                                                 \n",
      " max_pooling2d_8 (MaxPooling  (None, 14, 14, 128)      0         \n",
      " 2D)                                                             \n",
      "                                                                 \n",
      " flatten_2 (Flatten)         (None, 25088)             0         \n",
      "                                                                 \n",
      " dense_6 (Dense)             (None, 128)               3211392   \n",
      "                                                                 \n",
      " dense_7 (Dense)             (None, 64)                8256      \n",
      "                                                                 \n",
      " dense_8 (Dense)             (None, 14)                910       \n",
      "                                                                 \n",
      "=================================================================\n",
      "Total params: 3,313,806\n",
      "Trainable params: 3,313,806\n",
      "Non-trainable params: 0\n",
      "_________________________________________________________________\n"
     ]
    }
   ],
   "source": [
    "\n",
    "# Create the classification head\n",
    "model = Sequential([\n",
    "   # Convolution Layer 1\n",
    "    Conv2D(32, (3, 3), input_shape=(img_height,img_width,3), activation='relu'),\n",
    "    # MaxPooling2D(pool_size=(2, 2)),\n",
    "    MaxPooling2D(pool_size=(2, 2)),\n",
    "\n",
    "    # Convolution Layer 2\n",
    "    Conv2D(64, (3, 3), activation='relu'),\n",
    "    MaxPooling2D(pool_size=(2, 2)),\n",
    "\n",
    "    # Convolution Layer 3\n",
    "    Conv2D(128, (3, 3), activation='relu'),\n",
    "    MaxPooling2D(pool_size=(2, 2)),\n",
    "\n",
    "    # Flattening\n",
    "    Flatten(),\n",
    "\n",
    "    # Fully Connected Layer 1\n",
    "    Dense(128, activation='relu'),\n",
    "    # Dropout(0.5),\n",
    "\n",
    "    # Fully Connected Layer 2\n",
    "    Dense(64, activation='relu'),\n",
    "\n",
    "    # Output Layer\n",
    "    Dense(14, activation='sigmoid')  \n",
    "])\n",
    "\n",
    "# Compile the model\n",
    "model.compile(optimizer='adam', loss='categorical_crossentropy', metrics=['accuracy'])\n",
    "model.summary()\n"
   ]
  },
  {
   "cell_type": "code",
   "execution_count": 20,
   "metadata": {},
   "outputs": [
    {
     "name": "stdout",
     "output_type": "stream",
     "text": [
      "Epoch 1/15\n",
      "59/59 [==============================] - 18s 288ms/step - loss: 2.5494 - accuracy: 0.1482 - val_loss: 2.1926 - val_accuracy: 0.1986\n",
      "Epoch 2/15\n",
      "59/59 [==============================] - 15s 261ms/step - loss: 2.0091 - accuracy: 0.3101 - val_loss: 1.7800 - val_accuracy: 0.3294\n",
      "Epoch 3/15\n",
      "59/59 [==============================] - 17s 284ms/step - loss: 1.7013 - accuracy: 0.3799 - val_loss: 1.7729 - val_accuracy: 0.3224\n",
      "Epoch 4/15\n",
      "59/59 [==============================] - 16s 264ms/step - loss: 1.6432 - accuracy: 0.4114 - val_loss: 1.5963 - val_accuracy: 0.4112\n",
      "Epoch 5/15\n",
      "59/59 [==============================] - 16s 273ms/step - loss: 1.4274 - accuracy: 0.4932 - val_loss: 1.6768 - val_accuracy: 0.3551\n",
      "Epoch 6/15\n",
      "59/59 [==============================] - 20s 332ms/step - loss: 1.2874 - accuracy: 0.5375 - val_loss: 1.6115 - val_accuracy: 0.3808\n",
      "Epoch 7/15\n",
      "59/59 [==============================] - 16s 274ms/step - loss: 1.1549 - accuracy: 0.5775 - val_loss: 1.4068 - val_accuracy: 0.4486\n",
      "Epoch 8/15\n",
      "59/59 [==============================] - 16s 272ms/step - loss: 1.0698 - accuracy: 0.6116 - val_loss: 1.3560 - val_accuracy: 0.5117\n",
      "Epoch 9/15\n",
      "59/59 [==============================] - 15s 252ms/step - loss: 0.9895 - accuracy: 0.6465 - val_loss: 1.2422 - val_accuracy: 0.5491\n",
      "Epoch 10/15\n",
      "59/59 [==============================] - 15s 245ms/step - loss: 0.8710 - accuracy: 0.6925 - val_loss: 1.2290 - val_accuracy: 0.5911\n",
      "Epoch 11/15\n",
      "59/59 [==============================] - 15s 246ms/step - loss: 0.8627 - accuracy: 0.6925 - val_loss: 1.3062 - val_accuracy: 0.5327\n",
      "Epoch 12/15\n",
      "59/59 [==============================] - 15s 244ms/step - loss: 0.8246 - accuracy: 0.7206 - val_loss: 1.1027 - val_accuracy: 0.6332\n",
      "Epoch 13/15\n",
      "59/59 [==============================] - 14s 242ms/step - loss: 0.7543 - accuracy: 0.7453 - val_loss: 1.2378 - val_accuracy: 0.6215\n",
      "Epoch 14/15\n",
      "59/59 [==============================] - 14s 244ms/step - loss: 0.6270 - accuracy: 0.7785 - val_loss: 1.1852 - val_accuracy: 0.6285\n",
      "Epoch 15/15\n",
      "59/59 [==============================] - 15s 246ms/step - loss: 0.6131 - accuracy: 0.7734 - val_loss: 1.0339 - val_accuracy: 0.6986\n"
     ]
    }
   ],
   "source": [
    "# Train the model\n",
    "history = model.fit(\n",
    "    train_generator,\n",
    "    steps_per_epoch=len(train_generator),\n",
    "    epochs=15,\n",
    "    validation_data=test_generator,\n",
    "    validation_steps=len(test_generator)\n",
    ")\n",
    "\n",
    "\n"
   ]
  },
  {
   "cell_type": "code",
   "execution_count": 21,
   "metadata": {},
   "outputs": [
    {
     "name": "stdout",
     "output_type": "stream",
     "text": [
      "86/86 [==============================] - 2s 18ms/step\n"
     ]
    }
   ],
   "source": [
    "# predicting train dataset \n",
    "test_pridiction = model.predict(test_generator)\n",
    "\n",
    "# true labels \n",
    "test_true_labels = test_generator.classes\n",
    "\n",
    "\n"
   ]
  },
  {
   "cell_type": "code",
   "execution_count": 22,
   "metadata": {},
   "outputs": [
    {
     "name": "stdout",
     "output_type": "stream",
     "text": [
      "(428, 14)\n",
      "(428,)\n"
     ]
    }
   ],
   "source": [
    "print( test_pridiction.shape)\n",
    "print( test_true_labels.shape)\n",
    "\n",
    "\n"
   ]
  },
  {
   "cell_type": "code",
   "execution_count": 23,
   "metadata": {},
   "outputs": [
    {
     "name": "stdout",
     "output_type": "stream",
     "text": [
      "0.6799065420560748\n"
     ]
    }
   ],
   "source": [
    "#calculating accuracy\n",
    "accuracy = accuracy_score(test_true_labels, np.argmax(test_pridiction, axis=1))\n",
    "print(accuracy)"
   ]
  }
 ],
 "metadata": {
  "kernelspec": {
   "display_name": "Python 3",
   "language": "python",
   "name": "python3"
  },
  "language_info": {
   "codemirror_mode": {
    "name": "ipython",
    "version": 3
   },
   "file_extension": ".py",
   "mimetype": "text/x-python",
   "name": "python",
   "nbconvert_exporter": "python",
   "pygments_lexer": "ipython3",
   "version": "3.10.14"
  }
 },
 "nbformat": 4,
 "nbformat_minor": 2
}
