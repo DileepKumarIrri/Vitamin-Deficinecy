{
 "cells": [
  {
   "cell_type": "code",
   "execution_count": 7,
   "metadata": {},
   "outputs": [],
   "source": [
    "import numpy as np\n",
    "from sklearn.ensemble import VotingClassifier\n",
    "from sklearn.metrics import accuracy_score\n",
    "from sklearn.base import BaseEstimator, ClassifierMixin\n",
    "from tensorflow.keras.models import Sequential\n",
    "from tensorflow.keras.layers import GlobalAveragePooling2D, Dense, Dropout, BatchNormalization\n",
    "from tensorflow.keras.applications import ResNet50, VGG16\n",
    "from tensorflow.keras.preprocessing.image import ImageDataGenerator\n",
    "from tensorflow.keras.wrappers.scikit_learn import KerasClassifier"
   ]
  },
  {
   "cell_type": "code",
   "execution_count": 8,
   "metadata": {},
   "outputs": [],
   "source": [
    "# Define image dimensions and batch size\n",
    "img_height, img_width = 128, 128\n",
    "batch_size = 32\n",
    "# Define directories for training and testing data\n",
    "train_data_dir = \"../dataset/train\"\n",
    "test_data_dir = \"../dataset/test\""
   ]
  },
  {
   "cell_type": "code",
   "execution_count": 9,
   "metadata": {},
   "outputs": [],
   "source": [
    "# Data augmentation for training images\n",
    "train_datagen = ImageDataGenerator(\n",
    "    shear_range=0.2,\n",
    "    zoom_range=0.2,\n",
    "    horizontal_flip=True,\n",
    "    rescale=1./255  # Normalize pixel values\n",
    ")\n",
    "\n",
    "# Data augmentation for testing images (only rescale)\n",
    "test_datagen = ImageDataGenerator(rescale=1./255)\n"
   ]
  },
  {
   "cell_type": "code",
   "execution_count": 10,
   "metadata": {},
   "outputs": [
    {
     "name": "stdout",
     "output_type": "stream",
     "text": [
      "Found 1174 images belonging to 14 classes.\n",
      "Found 428 images belonging to 14 classes.\n"
     ]
    }
   ],
   "source": [
    "# Create data generators for training and testing\n",
    "train_generator = train_datagen.flow_from_directory(\n",
    "    train_data_dir,\n",
    "    target_size=(img_height, img_width),\n",
    "    batch_size=batch_size,\n",
    "    class_mode='categorical'\n",
    ")\n",
    "\n",
    "test_generator = test_datagen.flow_from_directory(\n",
    "    test_data_dir,\n",
    "    target_size=(img_height, img_width),\n",
    "    batch_size=batch_size,\n",
    "    class_mode='categorical',\n",
    "    shuffle=False  # No need to shuffle for evaluation\n",
    ")\n",
    "\n"
   ]
  },
  {
   "cell_type": "code",
   "execution_count": 11,
   "metadata": {},
   "outputs": [],
   "source": [
    "# Define the VGG16 base model\n",
    "def create_vgg_model():\n",
    "    vgg_model = VGG16(\n",
    "        input_shape=(img_height, img_width, 3),  # Adjust input shape\n",
    "        include_top=False,  # Exclude the fully-connected layers\n",
    "        weights='imagenet'  # Pre-trained on ImageNet\n",
    "    )\n",
    "    vgg_model.trainable = False\n",
    "\n",
    "    model = Sequential([\n",
    "        vgg_model,\n",
    "        GlobalAveragePooling2D(),\n",
    "        Dense(64, activation='relu'),\n",
    "        BatchNormalization(),\n",
    "        Dropout(0.2),\n",
    "        Dense(14, activation='sigmoid')\n",
    "    ])\n",
    "    model.compile(optimizer='adam', loss='categorical_crossentropy', metrics=['accuracy'])\n",
    "    print(model.summary())\n",
    "    return model\n",
    "\n",
    "\n"
   ]
  },
  {
   "cell_type": "code",
   "execution_count": 12,
   "metadata": {},
   "outputs": [
    {
     "name": "stdout",
     "output_type": "stream",
     "text": [
      "Model: \"sequential_1\"\n",
      "_________________________________________________________________\n",
      " Layer (type)                Output Shape              Param #   \n",
      "=================================================================\n",
      " vgg16 (Functional)          (None, 4, 4, 512)         14714688  \n",
      "                                                                 \n",
      " global_average_pooling2d_1   (None, 512)              0         \n",
      " (GlobalAveragePooling2D)                                        \n",
      "                                                                 \n",
      " dense_2 (Dense)             (None, 64)                32832     \n",
      "                                                                 \n",
      " batch_normalization_1 (Batc  (None, 64)               256       \n",
      " hNormalization)                                                 \n",
      "                                                                 \n",
      " dropout_1 (Dropout)         (None, 64)                0         \n",
      "                                                                 \n",
      " dense_3 (Dense)             (None, 14)                910       \n",
      "                                                                 \n",
      "=================================================================\n",
      "Total params: 14,748,686\n",
      "Trainable params: 33,870\n",
      "Non-trainable params: 14,714,816\n",
      "_________________________________________________________________\n",
      "None\n",
      "Epoch 1/15\n",
      "37/37 [==============================] - 23s 480ms/step - loss: 2.2895 - accuracy: 0.2334 - val_loss: 2.1988 - val_accuracy: 0.4650\n",
      "Epoch 2/15\n",
      "37/37 [==============================] - 15s 402ms/step - loss: 1.7429 - accuracy: 0.3927 - val_loss: 2.0891 - val_accuracy: 0.4626\n",
      "Epoch 3/15\n",
      "37/37 [==============================] - 15s 400ms/step - loss: 1.5530 - accuracy: 0.4710 - val_loss: 1.9290 - val_accuracy: 0.4743\n",
      "Epoch 4/15\n",
      "37/37 [==============================] - 15s 401ms/step - loss: 1.4031 - accuracy: 0.5264 - val_loss: 1.8011 - val_accuracy: 0.5280\n",
      "Epoch 5/15\n",
      "37/37 [==============================] - 15s 404ms/step - loss: 1.2934 - accuracy: 0.5733 - val_loss: 1.8049 - val_accuracy: 0.4065\n",
      "Epoch 6/15\n",
      "37/37 [==============================] - 15s 402ms/step - loss: 1.1651 - accuracy: 0.6380 - val_loss: 1.6249 - val_accuracy: 0.5047\n",
      "Epoch 7/15\n",
      "37/37 [==============================] - 15s 399ms/step - loss: 1.1087 - accuracy: 0.6465 - val_loss: 1.4621 - val_accuracy: 0.5654\n",
      "Epoch 8/15\n",
      "37/37 [==============================] - 15s 401ms/step - loss: 1.0229 - accuracy: 0.6797 - val_loss: 1.3610 - val_accuracy: 0.5748\n",
      "Epoch 9/15\n",
      "37/37 [==============================] - 15s 403ms/step - loss: 1.0035 - accuracy: 0.6814 - val_loss: 1.2283 - val_accuracy: 0.6542\n",
      "Epoch 10/15\n",
      "37/37 [==============================] - 15s 401ms/step - loss: 0.9269 - accuracy: 0.7172 - val_loss: 1.1472 - val_accuracy: 0.6659\n",
      "Epoch 11/15\n",
      "37/37 [==============================] - 15s 397ms/step - loss: 0.9053 - accuracy: 0.7070 - val_loss: 1.0114 - val_accuracy: 0.6869\n",
      "Epoch 12/15\n",
      "37/37 [==============================] - 15s 396ms/step - loss: 0.8582 - accuracy: 0.7266 - val_loss: 1.3275 - val_accuracy: 0.5864\n",
      "Epoch 13/15\n",
      "37/37 [==============================] - 15s 400ms/step - loss: 0.8207 - accuracy: 0.7411 - val_loss: 1.3104 - val_accuracy: 0.5794\n",
      "Epoch 14/15\n",
      "37/37 [==============================] - 15s 398ms/step - loss: 0.7967 - accuracy: 0.7521 - val_loss: 1.0034 - val_accuracy: 0.6799\n",
      "Epoch 15/15\n",
      "37/37 [==============================] - 15s 397ms/step - loss: 0.7728 - accuracy: 0.7470 - val_loss: 1.0942 - val_accuracy: 0.6308\n"
     ]
    },
    {
     "data": {
      "text/plain": [
       "<keras.callbacks.History at 0x1d562ad3280>"
      ]
     },
     "execution_count": 12,
     "metadata": {},
     "output_type": "execute_result"
    }
   ],
   "source": [
    "#MODEL fit\n",
    "model = create_vgg_model()\n",
    "model.fit(train_generator, epochs=15, validation_data=test_generator)\n"
   ]
  },
  {
   "cell_type": "code",
   "execution_count": 13,
   "metadata": {},
   "outputs": [
    {
     "name": "stdout",
     "output_type": "stream",
     "text": [
      "14/14 [==============================] - 2s 91ms/step\n"
     ]
    }
   ],
   "source": [
    "#predict\n",
    "predictions = model.predict(test_generator)\n",
    "\n"
   ]
  },
  {
   "cell_type": "code",
   "execution_count": 14,
   "metadata": {},
   "outputs": [
    {
     "name": "stdout",
     "output_type": "stream",
     "text": [
      "0.6308411214953271\n"
     ]
    }
   ],
   "source": [
    "#calculate accuracy\n",
    "y_pred = np.argmax(predictions, axis=1)\n",
    "y_true = test_generator.classes\n",
    "accuracy = accuracy_score(y_true, y_pred)\n",
    "print(accuracy)"
   ]
  }
 ],
 "metadata": {
  "kernelspec": {
   "display_name": "Python 3",
   "language": "python",
   "name": "python3"
  },
  "language_info": {
   "codemirror_mode": {
    "name": "ipython",
    "version": 3
   },
   "file_extension": ".py",
   "mimetype": "text/x-python",
   "name": "python",
   "nbconvert_exporter": "python",
   "pygments_lexer": "ipython3",
   "version": "3.10.14"
  }
 },
 "nbformat": 4,
 "nbformat_minor": 2
}
