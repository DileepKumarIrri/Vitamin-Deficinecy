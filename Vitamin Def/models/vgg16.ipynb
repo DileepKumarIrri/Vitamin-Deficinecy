{
 "cells": [
  {
   "cell_type": "code",
   "execution_count": 1,
   "metadata": {},
   "outputs": [],
   "source": [
    "import numpy as np\n",
    "from sklearn.ensemble import VotingClassifier\n",
    "from sklearn.metrics import accuracy_score\n",
    "from sklearn.base import BaseEstimator, ClassifierMixin\n",
    "from tensorflow.keras.models import Sequential\n",
    "from tensorflow.keras.layers import GlobalAveragePooling2D, Dense, Dropout, BatchNormalization\n",
    "from tensorflow.keras.applications import ResNet50, VGG16\n",
    "from tensorflow.keras.preprocessing.image import ImageDataGenerator\n",
    "from tensorflow.keras.wrappers.scikit_learn import KerasClassifier"
   ]
  },
  {
   "cell_type": "code",
   "execution_count": 2,
   "metadata": {},
   "outputs": [],
   "source": [
    "# Define image dimensions and batch size\n",
    "img_height, img_width = 128, 128\n",
    "batch_size = 32\n",
    "# Define directories for training and testing data\n",
    "train_data_dir = \"../dataset/train\"\n",
    "test_data_dir = \"../dataset/test\""
   ]
  },
  {
   "cell_type": "code",
   "execution_count": 3,
   "metadata": {},
   "outputs": [],
   "source": [
    "# Data augmentation for training images\n",
    "train_datagen = ImageDataGenerator(\n",
    "    shear_range=0.2,\n",
    "    zoom_range=0.2,\n",
    "    horizontal_flip=True,\n",
    "    rescale=1./255  # Normalize pixel values\n",
    ")\n",
    "\n",
    "# Data augmentation for testing images (only rescale)\n",
    "test_datagen = ImageDataGenerator(rescale=1./255)\n"
   ]
  },
  {
   "cell_type": "code",
   "execution_count": 4,
   "metadata": {},
   "outputs": [
    {
     "name": "stdout",
     "output_type": "stream",
     "text": [
      "Found 967 images belonging to 12 classes.\n",
      "Found 221 images belonging to 12 classes.\n"
     ]
    }
   ],
   "source": [
    "# Create data generators for training and testing\n",
    "train_generator = train_datagen.flow_from_directory(\n",
    "    train_data_dir,\n",
    "    target_size=(img_height, img_width),\n",
    "    batch_size=batch_size,\n",
    "    class_mode='categorical'\n",
    ")\n",
    "\n",
    "test_generator = test_datagen.flow_from_directory(\n",
    "    test_data_dir,\n",
    "    target_size=(img_height, img_width),\n",
    "    batch_size=batch_size,\n",
    "    class_mode='categorical',\n",
    "    shuffle=False  # No need to shuffle for evaluation\n",
    ")\n",
    "\n"
   ]
  },
  {
   "cell_type": "code",
   "execution_count": 5,
   "metadata": {},
   "outputs": [],
   "source": [
    "# Define the VGG16 base model\n",
    "def create_vgg_model():\n",
    "    vgg_model = VGG16(\n",
    "        input_shape=(img_height, img_width, 3),  # Adjust input shape\n",
    "        include_top=False,  # Exclude the fully-connected layers\n",
    "        weights='imagenet'  # Pre-trained on ImageNet\n",
    "    )\n",
    "    vgg_model.trainable = False\n",
    "\n",
    "    model = Sequential([\n",
    "        vgg_model,\n",
    "        GlobalAveragePooling2D(),\n",
    "        Dense(64, activation='relu'),\n",
    "        BatchNormalization(),\n",
    "        Dropout(0.2),\n",
    "        Dense(12, activation='sigmoid')\n",
    "    ])\n",
    "    model.compile(optimizer='adam', loss='categorical_crossentropy', metrics=['accuracy'])\n",
    "    print(model.summary())\n",
    "    return model\n",
    "\n",
    "\n"
   ]
  },
  {
   "cell_type": "code",
   "execution_count": 6,
   "metadata": {},
   "outputs": [
    {
     "name": "stdout",
     "output_type": "stream",
     "text": [
      "Model: \"sequential\"\n",
      "_________________________________________________________________\n",
      " Layer (type)                Output Shape              Param #   \n",
      "=================================================================\n",
      " vgg16 (Functional)          (None, 4, 4, 512)         14714688  \n",
      "                                                                 \n",
      " global_average_pooling2d (G  (None, 512)              0         \n",
      " lobalAveragePooling2D)                                          \n",
      "                                                                 \n",
      " dense (Dense)               (None, 64)                32832     \n",
      "                                                                 \n",
      " batch_normalization (BatchN  (None, 64)               256       \n",
      " ormalization)                                                   \n",
      "                                                                 \n",
      " dropout (Dropout)           (None, 64)                0         \n",
      "                                                                 \n",
      " dense_1 (Dense)             (None, 12)                780       \n",
      "                                                                 \n",
      "=================================================================\n",
      "Total params: 14,748,556\n",
      "Trainable params: 33,740\n",
      "Non-trainable params: 14,714,816\n",
      "_________________________________________________________________\n",
      "None\n",
      "Epoch 1/10\n",
      "31/31 [==============================] - 38s 693ms/step - loss: 2.1602 - accuracy: 0.2513 - val_loss: 2.3895 - val_accuracy: 0.1810\n",
      "Epoch 2/10\n",
      "31/31 [==============================] - 13s 403ms/step - loss: 1.5181 - accuracy: 0.4550 - val_loss: 2.1389 - val_accuracy: 0.2624\n",
      "Epoch 3/10\n",
      "31/31 [==============================] - 12s 370ms/step - loss: 1.3343 - accuracy: 0.5326 - val_loss: 1.9008 - val_accuracy: 0.4344\n",
      "Epoch 4/10\n",
      "31/31 [==============================] - 11s 365ms/step - loss: 1.1907 - accuracy: 0.6153 - val_loss: 1.7551 - val_accuracy: 0.4842\n",
      "Epoch 5/10\n",
      "31/31 [==============================] - 11s 364ms/step - loss: 1.0958 - accuracy: 0.6287 - val_loss: 1.6239 - val_accuracy: 0.5520\n",
      "Epoch 6/10\n",
      "31/31 [==============================] - 12s 371ms/step - loss: 0.9665 - accuracy: 0.6898 - val_loss: 1.6010 - val_accuracy: 0.4842\n",
      "Epoch 7/10\n",
      "31/31 [==============================] - 12s 378ms/step - loss: 0.9117 - accuracy: 0.7063 - val_loss: 1.4286 - val_accuracy: 0.5973\n",
      "Epoch 8/10\n",
      "31/31 [==============================] - 12s 370ms/step - loss: 0.8651 - accuracy: 0.7218 - val_loss: 1.3810 - val_accuracy: 0.5792\n",
      "Epoch 9/10\n",
      "31/31 [==============================] - 12s 376ms/step - loss: 0.8125 - accuracy: 0.7301 - val_loss: 1.2542 - val_accuracy: 0.6154\n",
      "Epoch 10/10\n",
      "31/31 [==============================] - 11s 365ms/step - loss: 0.7557 - accuracy: 0.7622 - val_loss: 1.1964 - val_accuracy: 0.6380\n"
     ]
    },
    {
     "data": {
      "text/plain": [
       "<keras.callbacks.History at 0x2370ffad240>"
      ]
     },
     "execution_count": 6,
     "metadata": {},
     "output_type": "execute_result"
    }
   ],
   "source": [
    "#MODEL fit\n",
    "model = create_vgg_model()\n",
    "model.fit(train_generator, epochs=10, validation_data=test_generator)\n"
   ]
  },
  {
   "cell_type": "code",
   "execution_count": 7,
   "metadata": {},
   "outputs": [
    {
     "name": "stdout",
     "output_type": "stream",
     "text": [
      "7/7 [==============================] - 1s 100ms/step\n"
     ]
    }
   ],
   "source": [
    "#predict\n",
    "predictions = model.predict(test_generator)\n",
    "\n"
   ]
  },
  {
   "cell_type": "code",
   "execution_count": 8,
   "metadata": {},
   "outputs": [],
   "source": [
    "#saving predictions in csv file\n",
    "np.savetxt(\"../model_saved_files/predictions/vgg16_predictions.csv\", predictions, delimiter=\",\")\n",
    "\n",
    "# Save the model\n",
    "# model.save(\"../model_saved_files/models_weights/vgg16.h5\")"
   ]
  }
 ],
 "metadata": {
  "kernelspec": {
   "display_name": "Python 3",
   "language": "python",
   "name": "python3"
  },
  "language_info": {
   "codemirror_mode": {
    "name": "ipython",
    "version": 3
   },
   "file_extension": ".py",
   "mimetype": "text/x-python",
   "name": "python",
   "nbconvert_exporter": "python",
   "pygments_lexer": "ipython3",
   "version": "3.10.14"
  }
 },
 "nbformat": 4,
 "nbformat_minor": 2
}
