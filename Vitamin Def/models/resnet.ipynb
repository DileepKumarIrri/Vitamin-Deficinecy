{
 "cells": [
  {
   "cell_type": "code",
   "execution_count": 1,
   "metadata": {},
   "outputs": [],
   "source": [
    "import numpy as np\n",
    "from sklearn.ensemble import VotingClassifier\n",
    "from sklearn.metrics import accuracy_score\n",
    "from sklearn.base import BaseEstimator, ClassifierMixin\n",
    "from tensorflow.keras.models import Sequential\n",
    "from tensorflow.keras.layers import GlobalAveragePooling2D, Dense, Dropout, BatchNormalization\n",
    "from tensorflow.keras.applications import ResNet50, VGG16\n",
    "from tensorflow.keras.preprocessing.image import ImageDataGenerator\n",
    "from tensorflow.keras.wrappers.scikit_learn import KerasClassifier"
   ]
  },
  {
   "cell_type": "code",
   "execution_count": 2,
   "metadata": {},
   "outputs": [],
   "source": [
    "# Define image dimensions and batch size\n",
    "img_height, img_width = 128, 128\n",
    "batch_size = 32\n",
    "# Define directories for training and testing data\n",
    "train_data_dir = \"../dataset/train\"\n",
    "test_data_dir = \"../dataset/test\""
   ]
  },
  {
   "cell_type": "code",
   "execution_count": 3,
   "metadata": {},
   "outputs": [],
   "source": [
    "# Data augmentation for training images\n",
    "train_datagen = ImageDataGenerator(\n",
    "    shear_range=0.2,\n",
    "    zoom_range=0.2,\n",
    "    horizontal_flip=True,\n",
    "    rescale=1./255  # Normalize pixel values\n",
    ")\n",
    "\n",
    "# Data augmentation for testing images (only rescale)\n",
    "test_datagen = ImageDataGenerator(rescale=1./255)\n"
   ]
  },
  {
   "cell_type": "code",
   "execution_count": 4,
   "metadata": {},
   "outputs": [
    {
     "name": "stdout",
     "output_type": "stream",
     "text": [
      "Found 967 images belonging to 12 classes.\n",
      "Found 221 images belonging to 12 classes.\n"
     ]
    }
   ],
   "source": [
    "# Create data generators for training and testing\n",
    "train_generator = train_datagen.flow_from_directory(\n",
    "    train_data_dir,\n",
    "    target_size=(img_height, img_width),\n",
    "    batch_size=batch_size,\n",
    "    class_mode='categorical'\n",
    ")\n",
    "\n",
    "test_generator = test_datagen.flow_from_directory(\n",
    "    test_data_dir,\n",
    "    target_size=(img_height, img_width),\n",
    "    batch_size=batch_size,\n",
    "    class_mode='categorical',\n",
    "    shuffle=False  # No need to shuffle for evaluation\n",
    ")\n",
    "\n"
   ]
  },
  {
   "cell_type": "code",
   "execution_count": 5,
   "metadata": {},
   "outputs": [],
   "source": [
    "# Define the ResNet50 base model\n",
    "def create_resnet_model():\n",
    "    resnet_model = ResNet50(\n",
    "        input_shape=(img_height, img_width, 3),  # Adjust input shape\n",
    "        include_top=False,  # Exclude the fully-connected layers\n",
    "        weights='imagenet'  # Pre-trained on ImageNet\n",
    "    )\n",
    "    resnet_model.trainable = False\n",
    "\n",
    "    model = Sequential([\n",
    "        resnet_model,\n",
    "        GlobalAveragePooling2D(),\n",
    "        Dense(64, activation='relu'),\n",
    "        BatchNormalization(),\n",
    "        Dropout(0.2),\n",
    "        Dense(12, activation='sigmoid')\n",
    "    ])\n",
    "    model.compile(optimizer='adam', loss='categorical_crossentropy', metrics=['accuracy'])\n",
    "    print(model.summary())\n",
    "    return model\n",
    "\n",
    "\n",
    "\n",
    "\n"
   ]
  },
  {
   "cell_type": "code",
   "execution_count": 6,
   "metadata": {},
   "outputs": [
    {
     "name": "stdout",
     "output_type": "stream",
     "text": [
      "Model: \"sequential\"\n",
      "_________________________________________________________________\n",
      " Layer (type)                Output Shape              Param #   \n",
      "=================================================================\n",
      " resnet50 (Functional)       (None, 4, 4, 2048)        23587712  \n",
      "                                                                 \n",
      " global_average_pooling2d (G  (None, 2048)             0         \n",
      " lobalAveragePooling2D)                                          \n",
      "                                                                 \n",
      " dense (Dense)               (None, 64)                131136    \n",
      "                                                                 \n",
      " batch_normalization (BatchN  (None, 64)               256       \n",
      " ormalization)                                                   \n",
      "                                                                 \n",
      " dropout (Dropout)           (None, 64)                0         \n",
      "                                                                 \n",
      " dense_1 (Dense)             (None, 12)                780       \n",
      "                                                                 \n",
      "=================================================================\n",
      "Total params: 23,719,884\n",
      "Trainable params: 132,044\n",
      "Non-trainable params: 23,587,840\n",
      "_________________________________________________________________\n",
      "None\n",
      "Epoch 1/10\n",
      "31/31 [==============================] - 31s 499ms/step - loss: 2.3397 - accuracy: 0.1551 - val_loss: 2.6237 - val_accuracy: 0.0724\n",
      "Epoch 2/10\n",
      "31/31 [==============================] - 11s 365ms/step - loss: 2.0367 - accuracy: 0.2606 - val_loss: 2.5617 - val_accuracy: 0.0724\n",
      "Epoch 3/10\n",
      "31/31 [==============================] - 11s 364ms/step - loss: 1.9370 - accuracy: 0.3144 - val_loss: 2.5278 - val_accuracy: 0.0724\n",
      "Epoch 4/10\n",
      "31/31 [==============================] - 12s 371ms/step - loss: 1.8516 - accuracy: 0.3361 - val_loss: 2.4909 - val_accuracy: 0.1584\n",
      "Epoch 5/10\n",
      "31/31 [==============================] - 11s 365ms/step - loss: 1.8318 - accuracy: 0.3382 - val_loss: 2.4216 - val_accuracy: 0.1267\n",
      "Epoch 6/10\n",
      "31/31 [==============================] - 12s 368ms/step - loss: 1.7869 - accuracy: 0.3526 - val_loss: 2.4022 - val_accuracy: 0.1448\n",
      "Epoch 7/10\n",
      "31/31 [==============================] - 11s 364ms/step - loss: 1.7272 - accuracy: 0.3950 - val_loss: 2.5241 - val_accuracy: 0.0905\n",
      "Epoch 8/10\n",
      "31/31 [==============================] - 11s 362ms/step - loss: 1.7044 - accuracy: 0.3909 - val_loss: 2.4260 - val_accuracy: 0.1357\n",
      "Epoch 9/10\n",
      "31/31 [==============================] - 11s 365ms/step - loss: 1.6531 - accuracy: 0.4116 - val_loss: 2.3173 - val_accuracy: 0.1629\n",
      "Epoch 10/10\n",
      "31/31 [==============================] - 11s 364ms/step - loss: 1.6606 - accuracy: 0.4054 - val_loss: 2.4537 - val_accuracy: 0.0814\n"
     ]
    },
    {
     "data": {
      "text/plain": [
       "<keras.callbacks.History at 0x13be3b23010>"
      ]
     },
     "execution_count": 6,
     "metadata": {},
     "output_type": "execute_result"
    }
   ],
   "source": [
    "#MODEL fit and training\n",
    "model = create_resnet_model()\n",
    "model.fit(train_generator, epochs=10, validation_data=test_generator)\n"
   ]
  },
  {
   "cell_type": "code",
   "execution_count": 7,
   "metadata": {},
   "outputs": [
    {
     "name": "stdout",
     "output_type": "stream",
     "text": [
      "7/7 [==============================] - 3s 86ms/step\n"
     ]
    }
   ],
   "source": [
    "#predict\n",
    "predictions = model.predict(test_generator)\n"
   ]
  },
  {
   "cell_type": "code",
   "execution_count": 8,
   "metadata": {},
   "outputs": [],
   "source": [
    "#saving predictions in csv file\n",
    "np.savetxt(\"../model_saved_files/predictions/resnet_predictions.csv\", predictions, delimiter=\",\")\n",
    "\n",
    "# Save the model\n",
    "# model.save(\"../model_saved_files/models_weights/resnet.h5\")"
   ]
  }
 ],
 "metadata": {
  "kernelspec": {
   "display_name": "Python 3",
   "language": "python",
   "name": "python3"
  },
  "language_info": {
   "codemirror_mode": {
    "name": "ipython",
    "version": 3
   },
   "file_extension": ".py",
   "mimetype": "text/x-python",
   "name": "python",
   "nbconvert_exporter": "python",
   "pygments_lexer": "ipython3",
   "version": "3.10.14"
  }
 },
 "nbformat": 4,
 "nbformat_minor": 2
}
