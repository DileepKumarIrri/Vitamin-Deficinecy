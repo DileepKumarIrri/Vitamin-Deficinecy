{
 "cells": [
  {
   "cell_type": "code",
   "execution_count": 1,
   "metadata": {},
   "outputs": [],
   "source": [
    "import numpy as np\n",
    "from sklearn.ensemble import VotingClassifier\n",
    "from sklearn.metrics import accuracy_score\n",
    "from sklearn.base import BaseEstimator, ClassifierMixin\n",
    "from tensorflow.keras.models import Sequential\n",
    "from tensorflow.keras.layers import GlobalAveragePooling2D, Dense, Dropout, BatchNormalization\n",
    "from tensorflow.keras.applications import InceptionV3\n",
    "from tensorflow.keras.preprocessing.image import ImageDataGenerator\n",
    "from tensorflow.keras.wrappers.scikit_learn import KerasClassifier"
   ]
  },
  {
   "cell_type": "code",
   "execution_count": 2,
   "metadata": {},
   "outputs": [],
   "source": [
    "# Define image dimensions and batch size\n",
    "img_height, img_width = 128, 128\n",
    "batch_size = 32\n",
    "# Define directories for training and testing data\n",
    "train_data_dir = \"../dataset/train\"\n",
    "test_data_dir = \"../dataset/test\""
   ]
  },
  {
   "cell_type": "code",
   "execution_count": 3,
   "metadata": {},
   "outputs": [],
   "source": [
    "# Data augmentation for training images\n",
    "train_datagen = ImageDataGenerator(\n",
    "    shear_range=0.2,\n",
    "    zoom_range=0.2,\n",
    "    horizontal_flip=True,\n",
    "    rescale=1./255  # Normalize pixel values\n",
    ")\n",
    "\n",
    "# Data augmentation for testing images (only rescale)\n",
    "test_datagen = ImageDataGenerator(rescale=1./255)\n"
   ]
  },
  {
   "cell_type": "code",
   "execution_count": 4,
   "metadata": {},
   "outputs": [
    {
     "name": "stdout",
     "output_type": "stream",
     "text": [
      "Found 1174 images belonging to 14 classes.\n",
      "Found 428 images belonging to 14 classes.\n"
     ]
    }
   ],
   "source": [
    "# Create data generators for training and testing\n",
    "train_generator = train_datagen.flow_from_directory(\n",
    "    train_data_dir,\n",
    "    target_size=(img_height, img_width),\n",
    "    batch_size=batch_size,\n",
    "    class_mode='categorical'\n",
    ")\n",
    "\n",
    "test_generator = test_datagen.flow_from_directory(\n",
    "    test_data_dir,\n",
    "    target_size=(img_height, img_width),\n",
    "    batch_size=batch_size,\n",
    "    class_mode='categorical',\n",
    "    shuffle=False  # No need to shuffle for evaluation\n",
    ")\n",
    "\n"
   ]
  },
  {
   "cell_type": "code",
   "execution_count": 5,
   "metadata": {},
   "outputs": [],
   "source": [
    "# Define the VGG16 base model\n",
    "def create_InceptionV3_model():\n",
    "    InceptionV3_model = InceptionV3(\n",
    "        include_top=False, \n",
    "        input_shape=(img_height, img_width, 3)\n",
    "        )\n",
    "    InceptionV3_model.trainable = False\n",
    "\n",
    "    model = Sequential([\n",
    "        InceptionV3_model,\n",
    "        GlobalAveragePooling2D(),\n",
    "        Dense(64, activation='relu'),\n",
    "        BatchNormalization(),\n",
    "        Dropout(0.2),\n",
    "        Dense(14, activation='sigmoid')\n",
    "    ])\n",
    "    model.compile(optimizer='adam', loss='categorical_crossentropy', metrics=['accuracy'])\n",
    "    print(model.summary())\n",
    "    return model\n",
    "\n",
    "\n"
   ]
  },
  {
   "cell_type": "code",
   "execution_count": 6,
   "metadata": {},
   "outputs": [
    {
     "name": "stdout",
     "output_type": "stream",
     "text": [
      "Model: \"sequential\"\n",
      "_________________________________________________________________\n",
      " Layer (type)                Output Shape              Param #   \n",
      "=================================================================\n",
      " inception_v3 (Functional)   (None, 2, 2, 2048)        21802784  \n",
      "                                                                 \n",
      " global_average_pooling2d (G  (None, 2048)             0         \n",
      " lobalAveragePooling2D)                                          \n",
      "                                                                 \n",
      " dense (Dense)               (None, 64)                131136    \n",
      "                                                                 \n",
      " batch_normalization_94 (Bat  (None, 64)               256       \n",
      " chNormalization)                                                \n",
      "                                                                 \n",
      " dropout (Dropout)           (None, 64)                0         \n",
      "                                                                 \n",
      " dense_1 (Dense)             (None, 14)                910       \n",
      "                                                                 \n",
      "=================================================================\n",
      "Total params: 21,935,086\n",
      "Trainable params: 132,174\n",
      "Non-trainable params: 21,802,912\n",
      "_________________________________________________________________\n",
      "None\n",
      "Epoch 1/15\n",
      "37/37 [==============================] - 40s 587ms/step - loss: 2.0057 - accuracy: 0.3654 - val_loss: 2.1046 - val_accuracy: 0.3435\n",
      "Epoch 2/15\n",
      "37/37 [==============================] - 15s 405ms/step - loss: 1.2786 - accuracy: 0.5716 - val_loss: 1.3058 - val_accuracy: 0.5561\n",
      "Epoch 3/15\n",
      "37/37 [==============================] - 15s 410ms/step - loss: 1.0717 - accuracy: 0.6704 - val_loss: 1.0812 - val_accuracy: 0.6542\n",
      "Epoch 4/15\n",
      "37/37 [==============================] - 15s 409ms/step - loss: 0.9179 - accuracy: 0.7215 - val_loss: 1.2099 - val_accuracy: 0.6168\n",
      "Epoch 5/15\n",
      "37/37 [==============================] - 15s 402ms/step - loss: 0.8268 - accuracy: 0.7538 - val_loss: 1.0991 - val_accuracy: 0.6729\n",
      "Epoch 6/15\n",
      "37/37 [==============================] - 15s 405ms/step - loss: 0.7617 - accuracy: 0.7632 - val_loss: 0.9761 - val_accuracy: 0.6706\n",
      "Epoch 7/15\n",
      "37/37 [==============================] - 15s 416ms/step - loss: 0.6741 - accuracy: 0.7998 - val_loss: 0.9506 - val_accuracy: 0.6776\n",
      "Epoch 8/15\n",
      "37/37 [==============================] - 15s 405ms/step - loss: 0.6442 - accuracy: 0.8015 - val_loss: 0.9282 - val_accuracy: 0.7079\n",
      "Epoch 9/15\n",
      "37/37 [==============================] - 15s 411ms/step - loss: 0.6114 - accuracy: 0.8126 - val_loss: 1.0877 - val_accuracy: 0.6215\n",
      "Epoch 10/15\n",
      "37/37 [==============================] - 15s 403ms/step - loss: 0.5922 - accuracy: 0.8143 - val_loss: 1.0096 - val_accuracy: 0.6565\n",
      "Epoch 11/15\n",
      "37/37 [==============================] - 15s 406ms/step - loss: 0.5492 - accuracy: 0.8228 - val_loss: 1.0250 - val_accuracy: 0.6612\n",
      "Epoch 12/15\n",
      "37/37 [==============================] - 15s 400ms/step - loss: 0.5347 - accuracy: 0.8330 - val_loss: 0.9010 - val_accuracy: 0.7196\n",
      "Epoch 13/15\n",
      "37/37 [==============================] - 15s 412ms/step - loss: 0.5194 - accuracy: 0.8399 - val_loss: 0.9431 - val_accuracy: 0.7103\n",
      "Epoch 14/15\n",
      "37/37 [==============================] - 15s 404ms/step - loss: 0.4923 - accuracy: 0.8475 - val_loss: 0.9023 - val_accuracy: 0.7313\n",
      "Epoch 15/15\n",
      "37/37 [==============================] - 16s 425ms/step - loss: 0.5020 - accuracy: 0.8373 - val_loss: 0.9499 - val_accuracy: 0.7360\n"
     ]
    },
    {
     "data": {
      "text/plain": [
       "<keras.callbacks.History at 0x1a158831bd0>"
      ]
     },
     "execution_count": 6,
     "metadata": {},
     "output_type": "execute_result"
    }
   ],
   "source": [
    "#MODEL fit\n",
    "model = create_InceptionV3_model()\n",
    "model.fit(train_generator, epochs=15, validation_data=test_generator)\n"
   ]
  },
  {
   "cell_type": "code",
   "execution_count": 12,
   "metadata": {},
   "outputs": [
    {
     "name": "stdout",
     "output_type": "stream",
     "text": [
      "14/14 [==============================] - 2s 109ms/step\n"
     ]
    }
   ],
   "source": [
    "# predicting train dataset \n",
    "pridiction = model.predict(test_generator)\n",
    "\n",
    "\n",
    "\n"
   ]
  },
  {
   "cell_type": "code",
   "execution_count": 13,
   "metadata": {},
   "outputs": [
    {
     "name": "stdout",
     "output_type": "stream",
     "text": [
      "0.735981308411215\n"
     ]
    }
   ],
   "source": [
    "#calculate accuracy\n",
    "from sklearn.metrics import accuracy_score\n",
    "y_pred = np.argmax(pridiction, axis=1)\n",
    "y_true = test_generator.classes\n",
    "accuracy = accuracy_score(y_true, y_pred)\n",
    "print(accuracy)"
   ]
  }
 ],
 "metadata": {
  "kernelspec": {
   "display_name": "Python 3",
   "language": "python",
   "name": "python3"
  },
  "language_info": {
   "codemirror_mode": {
    "name": "ipython",
    "version": 3
   },
   "file_extension": ".py",
   "mimetype": "text/x-python",
   "name": "python",
   "nbconvert_exporter": "python",
   "pygments_lexer": "ipython3",
   "version": "3.10.14"
  }
 },
 "nbformat": 4,
 "nbformat_minor": 2
}
