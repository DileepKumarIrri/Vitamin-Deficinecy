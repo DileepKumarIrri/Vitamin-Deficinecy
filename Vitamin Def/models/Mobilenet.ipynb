{
 "cells": [
  {
   "cell_type": "code",
   "execution_count": 8,
   "metadata": {},
   "outputs": [],
   "source": [
    "import matplotlib.pyplot as plt\n",
    "import tensorflow as tf\n",
    "from tensorflow.keras.models import Sequential\n",
    "from tensorflow.keras.layers import GlobalAveragePooling2D, Dense, Dropout, BatchNormalization\n",
    "from tensorflow.keras.applications import MobileNet\n",
    "from tensorflow.keras.preprocessing.image import ImageDataGenerator\n",
    "from sklearn.metrics import accuracy_score\n",
    "import numpy as np"
   ]
  },
  {
   "cell_type": "code",
   "execution_count": 9,
   "metadata": {},
   "outputs": [],
   "source": [
    "# Define image dimensions and batch size\n",
    "img_height, img_width = 128, 128\n",
    "batch_size = 5\n",
    "\n",
    "# Define directories for training and testing data\n",
    "train_data_dir = \"../dataset/train\"\n",
    "test_data_dir = \"../dataset/test\""
   ]
  },
  {
   "cell_type": "code",
   "execution_count": 10,
   "metadata": {},
   "outputs": [],
   "source": [
    "# Data augmentation for training images\n",
    "train_datagen = ImageDataGenerator(\n",
    "    shear_range=0.2,\n",
    "    zoom_range=0.2,\n",
    "    horizontal_flip=True,\n",
    "    rescale=1./255  # Normalize pixel values\n",
    ")\n",
    "\n",
    "# Data augmentation for testing images (only rescale)\n",
    "test_datagen = ImageDataGenerator(rescale=1./255)\n"
   ]
  },
  {
   "cell_type": "code",
   "execution_count": 11,
   "metadata": {},
   "outputs": [
    {
     "name": "stdout",
     "output_type": "stream",
     "text": [
      "Found 967 images belonging to 12 classes.\n",
      "Found 221 images belonging to 12 classes.\n"
     ]
    }
   ],
   "source": [
    "\n",
    "# Create data generators for training and testing\n",
    "train_generator = train_datagen.flow_from_directory(\n",
    "    train_data_dir,\n",
    "    target_size=(img_height, img_width),\n",
    "    batch_size=batch_size,\n",
    "    class_mode='categorical'\n",
    ")\n",
    "\n",
    "test_generator = test_datagen.flow_from_directory(\n",
    "    test_data_dir,\n",
    "    target_size=(img_height, img_width),\n",
    "    batch_size=5,\n",
    "    class_mode='categorical',\n",
    "    shuffle=False  # No need to shuffle for evaluation\n",
    ")"
   ]
  },
  {
   "cell_type": "code",
   "execution_count": 12,
   "metadata": {},
   "outputs": [],
   "source": [
    "\n",
    "# Define the MobileNet base model\n",
    "base_model = MobileNet(\n",
    "    input_shape=(img_height, img_width, 3),  # Adjust input shape\n",
    "    include_top=False,  # Exclude the fully-connected layers\n",
    "    weights='imagenet'  # Pre-trained on ImageNet\n",
    ")\n",
    "\n",
    "# Freeze the base model layers\n",
    "base_model.trainable = False\n"
   ]
  },
  {
   "cell_type": "code",
   "execution_count": 13,
   "metadata": {},
   "outputs": [],
   "source": [
    "\n",
    "# Create the classification head\n",
    "model = Sequential([\n",
    "    base_model,\n",
    "    GlobalAveragePooling2D(),\n",
    "    Dense(64, activation='relu'),\n",
    "    BatchNormalization(),\n",
    "    Dropout(0.2),\n",
    "    Dense(12, activation='sigmoid')\n",
    "])\n",
    "\n",
    "# Compile the model\n",
    "model.compile(optimizer='adam', loss='categorical_crossentropy', metrics=['accuracy'])\n"
   ]
  },
  {
   "cell_type": "code",
   "execution_count": 14,
   "metadata": {},
   "outputs": [
    {
     "name": "stdout",
     "output_type": "stream",
     "text": [
      "Epoch 1/10\n",
      "194/194 [==============================] - 33s 141ms/step - loss: 1.6520 - accuracy: 0.4550 - val_loss: 1.0772 - val_accuracy: 0.6199\n",
      "Epoch 2/10\n",
      "194/194 [==============================] - 13s 67ms/step - loss: 0.9718 - accuracy: 0.6991 - val_loss: 0.9606 - val_accuracy: 0.7059\n",
      "Epoch 3/10\n",
      "194/194 [==============================] - 13s 68ms/step - loss: 0.8129 - accuracy: 0.7653 - val_loss: 1.0388 - val_accuracy: 0.6697\n",
      "Epoch 4/10\n",
      "194/194 [==============================] - 13s 67ms/step - loss: 0.6274 - accuracy: 0.8159 - val_loss: 0.9897 - val_accuracy: 0.7014\n",
      "Epoch 5/10\n",
      "194/194 [==============================] - 13s 67ms/step - loss: 0.6038 - accuracy: 0.8180 - val_loss: 0.9004 - val_accuracy: 0.7421\n",
      "Epoch 6/10\n",
      "194/194 [==============================] - 13s 68ms/step - loss: 0.5539 - accuracy: 0.8511 - val_loss: 0.9658 - val_accuracy: 0.7557\n",
      "Epoch 7/10\n",
      "194/194 [==============================] - 13s 67ms/step - loss: 0.4731 - accuracy: 0.8749 - val_loss: 1.1055 - val_accuracy: 0.7285\n",
      "Epoch 8/10\n",
      "194/194 [==============================] - 13s 67ms/step - loss: 0.4199 - accuracy: 0.8821 - val_loss: 0.9975 - val_accuracy: 0.7240\n",
      "Epoch 9/10\n",
      "194/194 [==============================] - 13s 68ms/step - loss: 0.4459 - accuracy: 0.8780 - val_loss: 1.0919 - val_accuracy: 0.7330\n",
      "Epoch 10/10\n",
      "194/194 [==============================] - 13s 67ms/step - loss: 0.3809 - accuracy: 0.8935 - val_loss: 1.1168 - val_accuracy: 0.7330\n",
      "45/45 [==============================] - 1s 22ms/step - loss: 1.1168 - accuracy: 0.7330\n"
     ]
    },
    {
     "data": {
      "text/plain": [
       "[1.116844654083252, 0.733031690120697]"
      ]
     },
     "execution_count": 14,
     "metadata": {},
     "output_type": "execute_result"
    }
   ],
   "source": [
    "# Train the model\n",
    "history = model.fit(\n",
    "    train_generator,\n",
    "    steps_per_epoch=len(train_generator),\n",
    "    epochs=10,\n",
    "    validation_data=test_generator,\n",
    "    validation_steps=len(test_generator)\n",
    ")\n",
    "\n",
    "\n"
   ]
  },
  {
   "cell_type": "code",
   "execution_count": 21,
   "metadata": {},
   "outputs": [],
   "source": [
    "\n",
    "\n",
    "\n",
    "# # Plot training history\n",
    "# plt.style.use(\"ggplot\")\n",
    "# fig, ax = plt.subplots(2, 1)\n",
    "# ax[0].plot(history.history['accuracy'], color='b', label=\"Training Accuracy\")\n",
    "# ax[0].plot(history.history['val_accuracy'], color='r', label=\"Validation Accuracy\")\n",
    "# legend = ax[0].legend(loc='best', shadow=True)\n",
    "\n",
    "# ax[1].plot(history.history['loss'], color='b', label=\"Training Loss\")\n",
    "# ax[1].plot(history.history['val_loss'], color='r', label=\"Validation Loss\")\n",
    "# legend = ax[1].legend(loc='best', shadow=True)\n",
    "# plt.savefig(\"model/mobilenet_acc.png\")"
   ]
  },
  {
   "cell_type": "code",
   "execution_count": 16,
   "metadata": {},
   "outputs": [
    {
     "name": "stdout",
     "output_type": "stream",
     "text": [
      "45/45 [==============================] - 2s 21ms/step\n"
     ]
    }
   ],
   "source": [
    "\n",
    "# Make predictions on the test data\n",
    "predictions = model.predict(test_generator)\n"
   ]
  },
  {
   "cell_type": "code",
   "execution_count": 23,
   "metadata": {},
   "outputs": [],
   "source": [
    "#saving predictions in csv file\n",
    "np.savetxt(\"../model_saved_files/predictions/mobilenet_predictions.csv\", predictions, delimiter=\",\")\n",
    "\n",
    "# Save the model\n",
    "# model.save(\"../model_saved_files/models_weights/Mobilenet.h5\")"
   ]
  }
 ],
 "metadata": {
  "kernelspec": {
   "display_name": "Python 3",
   "language": "python",
   "name": "python3"
  },
  "language_info": {
   "codemirror_mode": {
    "name": "ipython",
    "version": 3
   },
   "file_extension": ".py",
   "mimetype": "text/x-python",
   "name": "python",
   "nbconvert_exporter": "python",
   "pygments_lexer": "ipython3",
   "version": "3.10.14"
  }
 },
 "nbformat": 4,
 "nbformat_minor": 2
}
