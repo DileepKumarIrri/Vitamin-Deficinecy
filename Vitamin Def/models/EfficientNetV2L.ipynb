{
 "cells": [
  {
   "cell_type": "code",
   "execution_count": 1,
   "metadata": {},
   "outputs": [],
   "source": [
    "import numpy as np\n",
    "import skfuzzy as fuzz\n",
    "from sklearn.ensemble import VotingClassifier\n",
    "from sklearn.base import BaseEstimator, ClassifierMixin\n",
    "from tensorflow.keras.models import Sequential\n",
    "from tensorflow.keras.layers import GlobalAveragePooling2D, Dense, Dropout, BatchNormalization\n",
    "from tensorflow.keras.applications import InceptionResNetV2\n",
    "from tensorflow.keras.preprocessing.image import ImageDataGenerator"
   ]
  },
  {
   "cell_type": "code",
   "execution_count": 2,
   "metadata": {},
   "outputs": [],
   "source": [
    "# Define image dimensions and batch size\n",
    "img_height, img_width = 128, 128\n",
    "batch_size = 32\n",
    "# Define directories for training and testing data\n",
    "train_data_dir = \"../dataset/train\"\n",
    "test_data_dir = \"../dataset/test\""
   ]
  },
  {
   "cell_type": "code",
   "execution_count": 3,
   "metadata": {},
   "outputs": [],
   "source": [
    "# Data augmentation for training images\n",
    "train_datagen = ImageDataGenerator(\n",
    "    shear_range=0.2,\n",
    "    zoom_range=0.2,\n",
    "    horizontal_flip=True,\n",
    "    rescale=1./255  # Normalize pixel values\n",
    ")\n",
    "\n",
    "# Data augmentation for testing images (only rescale)\n",
    "test_datagen = ImageDataGenerator(rescale=1./255)\n"
   ]
  },
  {
   "cell_type": "code",
   "execution_count": 4,
   "metadata": {},
   "outputs": [
    {
     "name": "stdout",
     "output_type": "stream",
     "text": [
      "Found 1174 images belonging to 14 classes.\n",
      "Found 428 images belonging to 14 classes.\n"
     ]
    }
   ],
   "source": [
    "# Create data generators for training and testing\n",
    "train_generator = train_datagen.flow_from_directory(\n",
    "    train_data_dir,\n",
    "    target_size=(img_height, img_width),\n",
    "    batch_size=batch_size,\n",
    "    class_mode='categorical'\n",
    ")\n",
    "\n",
    "test_generator = test_datagen.flow_from_directory(\n",
    "    test_data_dir,\n",
    "    target_size=(img_height, img_width),\n",
    "    batch_size=batch_size,\n",
    "    class_mode='categorical',\n",
    "    shuffle=True  # No need to shuffle for evaluation\n",
    ")\n",
    "\n"
   ]
  },
  {
   "cell_type": "markdown",
   "metadata": {},
   "source": [
    "# TRAINING PHASE"
   ]
  },
  {
   "cell_type": "code",
   "execution_count": 5,
   "metadata": {},
   "outputs": [],
   "source": [
    "# Define the VGG16 base model\n",
    "from tensorflow.keras.applications import EfficientNetV2L\n",
    "\n",
    "def create_EfficientNetV2L_model():\n",
    "    EfficientNetV2L_model = EfficientNetV2L(\n",
    "        weights='imagenet', \n",
    "        include_top=False, \n",
    "        input_shape=(img_height, img_width, 3)\n",
    "    )\n",
    "    EfficientNetV2L_model.trainable = False\n",
    "\n",
    "\n",
    "    model = Sequential([\n",
    "        EfficientNetV2L_model,\n",
    "        GlobalAveragePooling2D(),\n",
    "        Dense(64, activation='relu'),\n",
    "        BatchNormalization(),\n",
    "        Dropout(0.2),\n",
    "        Dense(14, activation='sigmoid')\n",
    "    ])\n",
    "    model.compile(optimizer='adam', loss='categorical_crossentropy', metrics=['accuracy'])\n",
    "    print(model.summary())\n",
    "    return model\n",
    "\n",
    "\n"
   ]
  },
  {
   "cell_type": "code",
   "execution_count": 6,
   "metadata": {},
   "outputs": [
    {
     "name": "stdout",
     "output_type": "stream",
     "text": [
      "Model: \"sequential\"\n",
      "_________________________________________________________________\n",
      " Layer (type)                Output Shape              Param #   \n",
      "=================================================================\n",
      " efficientnetv2-l (Functiona  (None, 4, 4, 1280)       117746848 \n",
      " l)                                                              \n",
      "                                                                 \n",
      " global_average_pooling2d (G  (None, 1280)             0         \n",
      " lobalAveragePooling2D)                                          \n",
      "                                                                 \n",
      " dense (Dense)               (None, 64)                81984     \n",
      "                                                                 \n",
      " batch_normalization (BatchN  (None, 64)               256       \n",
      " ormalization)                                                   \n",
      "                                                                 \n",
      " dropout (Dropout)           (None, 64)                0         \n",
      "                                                                 \n",
      " dense_1 (Dense)             (None, 14)                910       \n",
      "                                                                 \n",
      "=================================================================\n",
      "Total params: 117,829,998\n",
      "Trainable params: 83,022\n",
      "Non-trainable params: 117,746,976\n",
      "_________________________________________________________________\n",
      "None\n",
      "Epoch 1/20\n",
      "37/37 [==============================] - 116s 1s/step - loss: 2.9494 - accuracy: 0.0835 - val_loss: 2.5923 - val_accuracy: 0.0421\n",
      "Epoch 2/20\n",
      "37/37 [==============================] - 19s 511ms/step - loss: 2.8065 - accuracy: 0.0775 - val_loss: 2.5825 - val_accuracy: 0.1565\n",
      "Epoch 3/20\n",
      "37/37 [==============================] - 19s 512ms/step - loss: 2.7591 - accuracy: 0.0928 - val_loss: 2.5547 - val_accuracy: 0.2103\n",
      "Epoch 4/20\n",
      "37/37 [==============================] - 19s 512ms/step - loss: 2.7374 - accuracy: 0.0911 - val_loss: 2.5368 - val_accuracy: 0.2313\n",
      "Epoch 5/20\n",
      "37/37 [==============================] - 19s 513ms/step - loss: 2.7379 - accuracy: 0.0980 - val_loss: 2.5609 - val_accuracy: 0.1729\n",
      "Epoch 6/20\n",
      "37/37 [==============================] - 19s 515ms/step - loss: 2.7605 - accuracy: 0.0835 - val_loss: 2.5979 - val_accuracy: 0.2079\n",
      "Epoch 7/20\n",
      "37/37 [==============================] - 19s 512ms/step - loss: 2.6865 - accuracy: 0.1158 - val_loss: 2.5735 - val_accuracy: 0.1192\n",
      "Epoch 8/20\n",
      "37/37 [==============================] - 19s 516ms/step - loss: 2.7126 - accuracy: 0.1014 - val_loss: 2.5394 - val_accuracy: 0.1285\n",
      "Epoch 9/20\n",
      "37/37 [==============================] - 20s 524ms/step - loss: 2.6754 - accuracy: 0.1082 - val_loss: 2.5139 - val_accuracy: 0.2407\n",
      "Epoch 10/20\n",
      "37/37 [==============================] - 19s 517ms/step - loss: 2.7017 - accuracy: 0.1048 - val_loss: 2.5675 - val_accuracy: 0.0935\n",
      "Epoch 11/20\n",
      "37/37 [==============================] - 19s 514ms/step - loss: 2.6589 - accuracy: 0.1337 - val_loss: 2.5700 - val_accuracy: 0.1472\n",
      "Epoch 12/20\n",
      "37/37 [==============================] - 20s 534ms/step - loss: 2.6629 - accuracy: 0.1269 - val_loss: 2.5058 - val_accuracy: 0.1238\n",
      "Epoch 13/20\n",
      "37/37 [==============================] - 19s 518ms/step - loss: 2.6291 - accuracy: 0.1175 - val_loss: 2.5014 - val_accuracy: 0.1145\n",
      "Epoch 14/20\n",
      "37/37 [==============================] - 20s 527ms/step - loss: 2.6214 - accuracy: 0.1380 - val_loss: 2.5325 - val_accuracy: 0.0864\n",
      "Epoch 15/20\n",
      "37/37 [==============================] - 20s 526ms/step - loss: 2.5848 - accuracy: 0.1210 - val_loss: 2.3977 - val_accuracy: 0.3131\n",
      "Epoch 16/20\n",
      "37/37 [==============================] - 20s 524ms/step - loss: 2.5723 - accuracy: 0.1235 - val_loss: 2.3875 - val_accuracy: 0.2593\n",
      "Epoch 17/20\n",
      "37/37 [==============================] - 20s 528ms/step - loss: 2.5946 - accuracy: 0.1286 - val_loss: 2.3828 - val_accuracy: 0.2477\n",
      "Epoch 18/20\n",
      "37/37 [==============================] - 20s 530ms/step - loss: 2.5585 - accuracy: 0.1516 - val_loss: 2.3837 - val_accuracy: 0.2079\n",
      "Epoch 19/20\n",
      "37/37 [==============================] - 20s 535ms/step - loss: 2.6275 - accuracy: 0.1031 - val_loss: 2.3988 - val_accuracy: 0.2290\n",
      "Epoch 20/20\n",
      "37/37 [==============================] - 20s 528ms/step - loss: 2.5431 - accuracy: 0.1235 - val_loss: 2.4053 - val_accuracy: 0.1939\n"
     ]
    },
    {
     "data": {
      "text/plain": [
       "<keras.callbacks.History at 0x209db216e30>"
      ]
     },
     "execution_count": 6,
     "metadata": {},
     "output_type": "execute_result"
    }
   ],
   "source": [
    "#MODEL fit\n",
    "model = create_EfficientNetV2L_model()\n",
    "model.fit(train_generator, epochs=20, validation_data=test_generator)\n"
   ]
  },
  {
   "cell_type": "code",
   "execution_count": 11,
   "metadata": {},
   "outputs": [
    {
     "name": "stdout",
     "output_type": "stream",
     "text": [
      "14/14 [==============================] - 4s 283ms/step\n"
     ]
    }
   ],
   "source": [
    "# predicting train dataset \n",
    "test_pridiction = model.predict(test_generator)\n",
    "\n",
    "# true labels \n",
    "test_true_labels = test_generator.classes\n",
    "\n",
    "\n"
   ]
  },
  {
   "cell_type": "code",
   "execution_count": 12,
   "metadata": {},
   "outputs": [
    {
     "name": "stdout",
     "output_type": "stream",
     "text": [
      "(428, 14)\n",
      "(428,)\n",
      "0.09813084112149532\n"
     ]
    }
   ],
   "source": [
    "print( test_pridiction.shape)\n",
    "print( test_true_labels.shape)\n",
    "\n",
    "#calculating accuracy\n",
    "accuracy = np.mean(np.argmax(test_pridiction, axis=1) == test_true_labels)\n",
    "print(accuracy)\n"
   ]
  }
 ],
 "metadata": {
  "kernelspec": {
   "display_name": "Python 3",
   "language": "python",
   "name": "python3"
  },
  "language_info": {
   "codemirror_mode": {
    "name": "ipython",
    "version": 3
   },
   "file_extension": ".py",
   "mimetype": "text/x-python",
   "name": "python",
   "nbconvert_exporter": "python",
   "pygments_lexer": "ipython3",
   "version": "3.10.14"
  }
 },
 "nbformat": 4,
 "nbformat_minor": 2
}
