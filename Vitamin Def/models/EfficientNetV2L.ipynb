{
 "cells": [
  {
   "cell_type": "code",
   "execution_count": 6,
   "metadata": {},
   "outputs": [],
   "source": [
    "import numpy as np\n",
    "from sklearn.ensemble import VotingClassifier\n",
    "from sklearn.metrics import accuracy_score\n",
    "from sklearn.base import BaseEstimator, ClassifierMixin\n",
    "from tensorflow.keras.models import Sequential\n",
    "from tensorflow.keras.layers import GlobalAveragePooling2D, Dense, Dropout, BatchNormalization\n",
    "from tensorflow.keras.applications import EfficientNetV2L\n",
    "from tensorflow.keras.preprocessing.image import ImageDataGenerator\n",
    "from tensorflow.keras.wrappers.scikit_learn import KerasClassifier"
   ]
  },
  {
   "cell_type": "code",
   "execution_count": 7,
   "metadata": {},
   "outputs": [],
   "source": [
    "# Define image dimensions and batch size\n",
    "img_height, img_width = 128, 128\n",
    "batch_size = 32\n",
    "# Define directories for training and testing data\n",
    "train_data_dir = \"../dataset/train\"\n",
    "test_data_dir = \"../dataset/test\""
   ]
  },
  {
   "cell_type": "code",
   "execution_count": 8,
   "metadata": {},
   "outputs": [],
   "source": [
    "# Data augmentation for training images\n",
    "train_datagen = ImageDataGenerator(\n",
    "    shear_range=0.2,\n",
    "    zoom_range=0.2,\n",
    "    horizontal_flip=True,\n",
    "    rescale=1./255  # Normalize pixel values\n",
    ")\n",
    "\n",
    "# Data augmentation for testing images (only rescale)\n",
    "test_datagen = ImageDataGenerator(rescale=1./255)\n"
   ]
  },
  {
   "cell_type": "code",
   "execution_count": 9,
   "metadata": {},
   "outputs": [
    {
     "name": "stdout",
     "output_type": "stream",
     "text": [
      "Found 967 images belonging to 12 classes.\n",
      "Found 221 images belonging to 12 classes.\n"
     ]
    }
   ],
   "source": [
    "# Create data generators for training and testing\n",
    "train_generator = train_datagen.flow_from_directory(\n",
    "    train_data_dir,\n",
    "    target_size=(img_height, img_width),\n",
    "    batch_size=batch_size,\n",
    "    class_mode='categorical'\n",
    ")\n",
    "\n",
    "test_generator = test_datagen.flow_from_directory(\n",
    "    test_data_dir,\n",
    "    target_size=(img_height, img_width),\n",
    "    batch_size=batch_size,\n",
    "    class_mode='categorical',\n",
    "    shuffle=False  # No need to shuffle for evaluation\n",
    ")\n",
    "\n"
   ]
  },
  {
   "cell_type": "code",
   "execution_count": 10,
   "metadata": {},
   "outputs": [],
   "source": [
    "# Define the VGG16 base model\n",
    "def create_EfficientNetV2L_model():\n",
    "    EfficientNetV2L_model = EfficientNetV2L(\n",
    "        weights='imagenet', \n",
    "        include_top=False, \n",
    "        input_shape=(img_height, img_width, 3)\n",
    "    )\n",
    "    EfficientNetV2L_model.trainable = False\n",
    "\n",
    "\n",
    "    model = Sequential([\n",
    "        EfficientNetV2L_model,\n",
    "        GlobalAveragePooling2D(),\n",
    "        Dense(64, activation='relu'),\n",
    "        BatchNormalization(),\n",
    "        Dropout(0.2),\n",
    "        Dense(12, activation='sigmoid')\n",
    "    ])\n",
    "    model.compile(optimizer='adam', loss='categorical_crossentropy', metrics=['accuracy'])\n",
    "    print(model.summary())\n",
    "    return model\n",
    "\n",
    "\n"
   ]
  },
  {
   "cell_type": "code",
   "execution_count": 11,
   "metadata": {},
   "outputs": [
    {
     "name": "stdout",
     "output_type": "stream",
     "text": [
      "Downloading data from https://storage.googleapis.com/tensorflow/keras-applications/efficientnet_v2/efficientnetv2-l_notop.h5\n",
      "473176280/473176280 [==============================] - 83s 0us/step\n",
      "Model: \"sequential\"\n",
      "_________________________________________________________________\n",
      " Layer (type)                Output Shape              Param #   \n",
      "=================================================================\n",
      " efficientnetv2-l (Functiona  (None, 4, 4, 1280)       117746848 \n",
      " l)                                                              \n",
      "                                                                 \n",
      " global_average_pooling2d (G  (None, 1280)             0         \n",
      " lobalAveragePooling2D)                                          \n",
      "                                                                 \n",
      " dense (Dense)               (None, 64)                81984     \n",
      "                                                                 \n",
      " batch_normalization (BatchN  (None, 64)               256       \n",
      " ormalization)                                                   \n",
      "                                                                 \n",
      " dropout (Dropout)           (None, 64)                0         \n",
      "                                                                 \n",
      " dense_1 (Dense)             (None, 12)                780       \n",
      "                                                                 \n",
      "=================================================================\n",
      "Total params: 117,829,868\n",
      "Trainable params: 82,892\n",
      "Non-trainable params: 117,746,976\n",
      "_________________________________________________________________\n",
      "None\n",
      "Epoch 1/10\n",
      "31/31 [==============================] - 119s 1s/step - loss: 2.8471 - accuracy: 0.0972 - val_loss: 2.5546 - val_accuracy: 0.0814\n",
      "Epoch 2/10\n",
      "31/31 [==============================] - 14s 460ms/step - loss: 2.6737 - accuracy: 0.1075 - val_loss: 2.5663 - val_accuracy: 0.0724\n",
      "Epoch 3/10\n",
      "31/31 [==============================] - 16s 514ms/step - loss: 2.6483 - accuracy: 0.0827 - val_loss: 2.5797 - val_accuracy: 0.0814\n",
      "Epoch 4/10\n",
      "31/31 [==============================] - 15s 475ms/step - loss: 2.5587 - accuracy: 0.1251 - val_loss: 2.5072 - val_accuracy: 0.0860\n",
      "Epoch 5/10\n",
      "31/31 [==============================] - 15s 461ms/step - loss: 2.5933 - accuracy: 0.1189 - val_loss: 2.4855 - val_accuracy: 0.0814\n",
      "Epoch 6/10\n",
      "31/31 [==============================] - 14s 453ms/step - loss: 2.5578 - accuracy: 0.1158 - val_loss: 2.4910 - val_accuracy: 0.0814\n",
      "Epoch 7/10\n",
      "31/31 [==============================] - 15s 478ms/step - loss: 2.6179 - accuracy: 0.1117 - val_loss: 2.4726 - val_accuracy: 0.0814\n",
      "Epoch 8/10\n",
      "31/31 [==============================] - 15s 485ms/step - loss: 2.5240 - accuracy: 0.1272 - val_loss: 2.4782 - val_accuracy: 0.0769\n",
      "Epoch 9/10\n",
      "31/31 [==============================] - 15s 461ms/step - loss: 2.5053 - accuracy: 0.1334 - val_loss: 2.4992 - val_accuracy: 0.0860\n",
      "Epoch 10/10\n",
      "31/31 [==============================] - 14s 453ms/step - loss: 2.5242 - accuracy: 0.1334 - val_loss: 2.5076 - val_accuracy: 0.1086\n"
     ]
    },
    {
     "data": {
      "text/plain": [
       "<keras.callbacks.History at 0x1d95ad9cbe0>"
      ]
     },
     "execution_count": 11,
     "metadata": {},
     "output_type": "execute_result"
    }
   ],
   "source": [
    "#MODEL fit\n",
    "model = create_EfficientNetV2L_model()\n",
    "model.fit(train_generator, epochs=10, validation_data=test_generator)\n"
   ]
  },
  {
   "cell_type": "code",
   "execution_count": 12,
   "metadata": {},
   "outputs": [
    {
     "name": "stdout",
     "output_type": "stream",
     "text": [
      "7/7 [==============================] - 19s 290ms/step\n"
     ]
    }
   ],
   "source": [
    "#predict\n",
    "predictions = model.predict(test_generator)\n",
    "\n"
   ]
  },
  {
   "cell_type": "code",
   "execution_count": 13,
   "metadata": {},
   "outputs": [],
   "source": [
    "#saving predictions in csv file\n",
    "np.savetxt(\"../model_saved_files/predictions/EfficientNetV2L_predictions.csv\", predictions, delimiter=\",\")\n",
    "\n",
    "# Save the model\n",
    "# model.save(\"../model_saved_files/models_weights/EfficientNetV2L.h5\")"
   ]
  }
 ],
 "metadata": {
  "kernelspec": {
   "display_name": "Python 3",
   "language": "python",
   "name": "python3"
  },
  "language_info": {
   "codemirror_mode": {
    "name": "ipython",
    "version": 3
   },
   "file_extension": ".py",
   "mimetype": "text/x-python",
   "name": "python",
   "nbconvert_exporter": "python",
   "pygments_lexer": "ipython3",
   "version": "3.10.14"
  }
 },
 "nbformat": 4,
 "nbformat_minor": 2
}
