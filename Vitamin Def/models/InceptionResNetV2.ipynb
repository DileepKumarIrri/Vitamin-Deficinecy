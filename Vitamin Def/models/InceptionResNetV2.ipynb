{
 "cells": [
  {
   "cell_type": "code",
   "execution_count": 7,
   "metadata": {},
   "outputs": [],
   "source": [
    "import numpy as np\n",
    "from sklearn.ensemble import VotingClassifier\n",
    "from sklearn.base import BaseEstimator, ClassifierMixin\n",
    "from tensorflow.keras.models import Sequential\n",
    "from tensorflow.keras.layers import GlobalAveragePooling2D, Dense, Dropout, BatchNormalization\n",
    "from tensorflow.keras.applications import InceptionResNetV2\n",
    "from tensorflow.keras.preprocessing.image import ImageDataGenerator\n"
   ]
  },
  {
   "cell_type": "code",
   "execution_count": 8,
   "metadata": {},
   "outputs": [],
   "source": [
    "# Define image dimensions and batch size\n",
    "img_height, img_width = 128, 128\n",
    "batch_size = 32\n",
    "# Define directories for training and testing data\n",
    "train_data_dir = \"../dataset/train\"\n",
    "test_data_dir = \"../dataset/test\""
   ]
  },
  {
   "cell_type": "code",
   "execution_count": 9,
   "metadata": {},
   "outputs": [],
   "source": [
    "# Data augmentation for training images\n",
    "train_datagen = ImageDataGenerator(\n",
    "    shear_range=0.2,\n",
    "    zoom_range=0.2,\n",
    "    horizontal_flip=True,\n",
    "    rescale=1./255  # Normalize pixel values\n",
    ")\n",
    "\n",
    "# Data augmentation for testing images (only rescale)\n",
    "test_datagen = ImageDataGenerator(rescale=1./255)\n"
   ]
  },
  {
   "cell_type": "code",
   "execution_count": 10,
   "metadata": {},
   "outputs": [
    {
     "name": "stdout",
     "output_type": "stream",
     "text": [
      "Found 1174 images belonging to 14 classes.\n",
      "Found 428 images belonging to 14 classes.\n"
     ]
    }
   ],
   "source": [
    "# Create data generators for training and testing\n",
    "train_generator = train_datagen.flow_from_directory(\n",
    "    train_data_dir,\n",
    "    target_size=(img_height, img_width),\n",
    "    batch_size=batch_size,\n",
    "    class_mode='categorical'\n",
    ")\n",
    "\n",
    "test_generator = test_datagen.flow_from_directory(\n",
    "    test_data_dir,\n",
    "    target_size=(img_height, img_width),\n",
    "    batch_size=batch_size,\n",
    "    class_mode='categorical',\n",
    "    shuffle=False  # No need to shuffle for evaluation\n",
    ")\n",
    "\n"
   ]
  },
  {
   "cell_type": "code",
   "execution_count": 11,
   "metadata": {},
   "outputs": [],
   "source": [
    "# Define the VGG16 base model\n",
    "def create_InceptionResNetV2_model():\n",
    "    InceptionResNetV2_model = InceptionResNetV2(\n",
    "        include_top=False, \n",
    "        input_shape=(img_height, img_width, 3)\n",
    "        )\n",
    "    InceptionResNetV2_model.trainable = False\n",
    "\n",
    "    model = Sequential([\n",
    "        InceptionResNetV2_model,\n",
    "        GlobalAveragePooling2D(),\n",
    "        Dense(64, activation='relu'),\n",
    "        BatchNormalization(),\n",
    "        Dropout(0.2),\n",
    "        Dense(14, activation='sigmoid')\n",
    "    ])\n",
    "    model.compile(optimizer='adam', loss='categorical_crossentropy', metrics=['accuracy'])\n",
    "    print(model.summary())\n",
    "    return model\n",
    "\n",
    "\n"
   ]
  },
  {
   "cell_type": "code",
   "execution_count": 12,
   "metadata": {},
   "outputs": [
    {
     "name": "stdout",
     "output_type": "stream",
     "text": [
      "Model: \"sequential_1\"\n",
      "_________________________________________________________________\n",
      " Layer (type)                Output Shape              Param #   \n",
      "=================================================================\n",
      " inception_resnet_v2 (Functi  (None, 2, 2, 1536)       54336736  \n",
      " onal)                                                           \n",
      "                                                                 \n",
      " global_average_pooling2d_1   (None, 1536)             0         \n",
      " (GlobalAveragePooling2D)                                        \n",
      "                                                                 \n",
      " dense_2 (Dense)             (None, 64)                98368     \n",
      "                                                                 \n",
      " batch_normalization_407 (Ba  (None, 64)               256       \n",
      " tchNormalization)                                               \n",
      "                                                                 \n",
      " dropout_1 (Dropout)         (None, 64)                0         \n",
      "                                                                 \n",
      " dense_3 (Dense)             (None, 14)                910       \n",
      "                                                                 \n",
      "=================================================================\n",
      "Total params: 54,436,270\n",
      "Trainable params: 99,406\n",
      "Non-trainable params: 54,336,864\n",
      "_________________________________________________________________\n",
      "None\n",
      "Epoch 1/15\n",
      "37/37 [==============================] - 56s 745ms/step - loss: 2.0164 - accuracy: 0.3373 - val_loss: 1.6218 - val_accuracy: 0.5164\n",
      "Epoch 2/15\n",
      "37/37 [==============================] - 16s 427ms/step - loss: 1.3531 - accuracy: 0.5324 - val_loss: 1.2920 - val_accuracy: 0.5794\n",
      "Epoch 3/15\n",
      "37/37 [==============================] - 16s 436ms/step - loss: 1.1037 - accuracy: 0.6380 - val_loss: 1.0386 - val_accuracy: 0.6682\n",
      "Epoch 4/15\n",
      "37/37 [==============================] - 16s 427ms/step - loss: 0.9840 - accuracy: 0.6763 - val_loss: 1.1534 - val_accuracy: 0.6145\n",
      "Epoch 5/15\n",
      "37/37 [==============================] - 16s 431ms/step - loss: 0.9075 - accuracy: 0.7112 - val_loss: 0.8835 - val_accuracy: 0.7290\n",
      "Epoch 6/15\n",
      "37/37 [==============================] - 16s 425ms/step - loss: 0.8436 - accuracy: 0.7368 - val_loss: 1.0732 - val_accuracy: 0.6332\n",
      "Epoch 7/15\n",
      "37/37 [==============================] - 16s 425ms/step - loss: 0.7652 - accuracy: 0.7675 - val_loss: 0.9121 - val_accuracy: 0.6963\n",
      "Epoch 8/15\n",
      "37/37 [==============================] - 16s 422ms/step - loss: 0.6989 - accuracy: 0.7709 - val_loss: 0.9176 - val_accuracy: 0.6729\n",
      "Epoch 9/15\n",
      "37/37 [==============================] - 16s 428ms/step - loss: 0.6547 - accuracy: 0.7888 - val_loss: 1.0455 - val_accuracy: 0.6355\n",
      "Epoch 10/15\n",
      "37/37 [==============================] - 16s 425ms/step - loss: 0.6428 - accuracy: 0.7990 - val_loss: 0.8319 - val_accuracy: 0.7196\n",
      "Epoch 11/15\n",
      "37/37 [==============================] - 16s 429ms/step - loss: 0.6441 - accuracy: 0.7879 - val_loss: 1.0027 - val_accuracy: 0.6449\n",
      "Epoch 12/15\n",
      "37/37 [==============================] - 16s 426ms/step - loss: 0.5907 - accuracy: 0.8109 - val_loss: 0.8822 - val_accuracy: 0.6846\n",
      "Epoch 13/15\n",
      "37/37 [==============================] - 16s 427ms/step - loss: 0.5620 - accuracy: 0.8262 - val_loss: 0.8208 - val_accuracy: 0.7150\n",
      "Epoch 14/15\n",
      "37/37 [==============================] - 16s 430ms/step - loss: 0.5976 - accuracy: 0.8041 - val_loss: 0.8930 - val_accuracy: 0.7196\n",
      "Epoch 15/15\n",
      "37/37 [==============================] - 16s 424ms/step - loss: 0.5087 - accuracy: 0.8484 - val_loss: 0.8521 - val_accuracy: 0.7500\n"
     ]
    },
    {
     "data": {
      "text/plain": [
       "<keras.callbacks.History at 0x1517d30d240>"
      ]
     },
     "execution_count": 12,
     "metadata": {},
     "output_type": "execute_result"
    }
   ],
   "source": [
    "#MODEL fit\n",
    "model = create_InceptionResNetV2_model()\n",
    "model.fit(train_generator, epochs=15, validation_data=test_generator)\n"
   ]
  },
  {
   "cell_type": "code",
   "execution_count": 16,
   "metadata": {},
   "outputs": [
    {
     "name": "stdout",
     "output_type": "stream",
     "text": [
      "14/14 [==============================] - 2s 142ms/step\n"
     ]
    }
   ],
   "source": [
    "#predict\n",
    "predictions = model.predict(test_generator)\n",
    "\n"
   ]
  },
  {
   "cell_type": "code",
   "execution_count": 18,
   "metadata": {},
   "outputs": [
    {
     "name": "stdout",
     "output_type": "stream",
     "text": [
      "[[0.9966562  0.70240897 0.9793976  ... 0.01943718 0.15308352 0.18827246]\n",
      " [0.9873552  0.73969376 0.95810765 ... 0.06542902 0.07220162 0.02942387]\n",
      " [0.9811354  0.7872501  0.9326008  ... 0.05270735 0.16397616 0.07496586]\n",
      " ...\n",
      " [0.5558826  0.44052428 0.17427085 ... 0.1508262  0.31709817 0.99996114]\n",
      " [0.336446   0.14789732 0.15691516 ... 0.32839343 0.08884767 0.9987191 ]\n",
      " [0.15988    0.0115172  0.07373477 ... 0.06187302 0.05615737 0.98324895]]\n",
      "0.75\n"
     ]
    }
   ],
   "source": [
    "print(predictions)\n",
    "#calculate accuracy\n",
    "from sklearn.metrics import accuracy_score\n",
    "y_pred = np.argmax(predictions, axis=1)\n",
    "y_true = test_generator.classes\n",
    "accuracy = accuracy_score(y_true, y_pred)\n",
    "print(accuracy)"
   ]
  }
 ],
 "metadata": {
  "kernelspec": {
   "display_name": "Python 3",
   "language": "python",
   "name": "python3"
  },
  "language_info": {
   "codemirror_mode": {
    "name": "ipython",
    "version": 3
   },
   "file_extension": ".py",
   "mimetype": "text/x-python",
   "name": "python",
   "nbconvert_exporter": "python",
   "pygments_lexer": "ipython3",
   "version": "3.10.14"
  }
 },
 "nbformat": 4,
 "nbformat_minor": 2
}
