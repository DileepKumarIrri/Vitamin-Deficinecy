{
 "cells": [
  {
   "cell_type": "code",
   "execution_count": 1,
   "metadata": {},
   "outputs": [],
   "source": [
    "import numpy as np\n",
    "from sklearn.ensemble import VotingClassifier\n",
    "from sklearn.base import BaseEstimator, ClassifierMixin\n",
    "from tensorflow.keras.models import Sequential\n",
    "from tensorflow.keras.layers import GlobalAveragePooling2D, Dense, Dropout, BatchNormalization\n",
    "from tensorflow.keras.applications import InceptionResNetV2\n",
    "from tensorflow.keras.preprocessing.image import ImageDataGenerator\n"
   ]
  },
  {
   "cell_type": "code",
   "execution_count": 2,
   "metadata": {},
   "outputs": [],
   "source": [
    "# Define image dimensions and batch size\n",
    "img_height, img_width = 128, 128\n",
    "batch_size = 32\n",
    "# Define directories for training and testing data\n",
    "train_data_dir = \"../dataset/train\"\n",
    "test_data_dir = \"../dataset/test\""
   ]
  },
  {
   "cell_type": "code",
   "execution_count": 3,
   "metadata": {},
   "outputs": [],
   "source": [
    "# Data augmentation for training images\n",
    "train_datagen = ImageDataGenerator(\n",
    "    shear_range=0.2,\n",
    "    zoom_range=0.2,\n",
    "    horizontal_flip=True,\n",
    "    rescale=1./255  # Normalize pixel values\n",
    ")\n",
    "\n",
    "# Data augmentation for testing images (only rescale)\n",
    "test_datagen = ImageDataGenerator(rescale=1./255)\n"
   ]
  },
  {
   "cell_type": "code",
   "execution_count": 4,
   "metadata": {},
   "outputs": [
    {
     "name": "stdout",
     "output_type": "stream",
     "text": [
      "Found 967 images belonging to 12 classes.\n",
      "Found 221 images belonging to 12 classes.\n"
     ]
    }
   ],
   "source": [
    "# Create data generators for training and testing\n",
    "train_generator = train_datagen.flow_from_directory(\n",
    "    train_data_dir,\n",
    "    target_size=(img_height, img_width),\n",
    "    batch_size=batch_size,\n",
    "    class_mode='categorical'\n",
    ")\n",
    "\n",
    "test_generator = test_datagen.flow_from_directory(\n",
    "    test_data_dir,\n",
    "    target_size=(img_height, img_width),\n",
    "    batch_size=batch_size,\n",
    "    class_mode='categorical',\n",
    "    shuffle=False  # No need to shuffle for evaluation\n",
    ")\n",
    "\n"
   ]
  },
  {
   "cell_type": "code",
   "execution_count": 5,
   "metadata": {},
   "outputs": [],
   "source": [
    "# Define the VGG16 base model\n",
    "def create_InceptionResNetV2_model():\n",
    "    InceptionResNetV2_model = InceptionResNetV2(\n",
    "        include_top=False, \n",
    "        input_shape=(img_height, img_width, 3)\n",
    "        )\n",
    "    InceptionResNetV2_model.trainable = False\n",
    "\n",
    "    model = Sequential([\n",
    "        InceptionResNetV2_model,\n",
    "        GlobalAveragePooling2D(),\n",
    "        Dense(64, activation='relu'),\n",
    "        BatchNormalization(),\n",
    "        Dropout(0.2),\n",
    "        Dense(12, activation='sigmoid')\n",
    "    ])\n",
    "    model.compile(optimizer='adam', loss='categorical_crossentropy', metrics=['accuracy'])\n",
    "    print(model.summary())\n",
    "    return model\n",
    "\n",
    "\n"
   ]
  },
  {
   "cell_type": "code",
   "execution_count": 6,
   "metadata": {},
   "outputs": [
    {
     "name": "stdout",
     "output_type": "stream",
     "text": [
      "Model: \"sequential\"\n",
      "_________________________________________________________________\n",
      " Layer (type)                Output Shape              Param #   \n",
      "=================================================================\n",
      " inception_resnet_v2 (Functi  (None, 2, 2, 1536)       54336736  \n",
      " onal)                                                           \n",
      "                                                                 \n",
      " global_average_pooling2d (G  (None, 1536)             0         \n",
      " lobalAveragePooling2D)                                          \n",
      "                                                                 \n",
      " dense (Dense)               (None, 64)                98368     \n",
      "                                                                 \n",
      " batch_normalization_203 (Ba  (None, 64)               256       \n",
      " tchNormalization)                                               \n",
      "                                                                 \n",
      " dropout (Dropout)           (None, 64)                0         \n",
      "                                                                 \n",
      " dense_1 (Dense)             (None, 12)                780       \n",
      "                                                                 \n",
      "=================================================================\n",
      "Total params: 54,436,140\n",
      "Trainable params: 99,276\n",
      "Non-trainable params: 54,336,864\n",
      "_________________________________________________________________\n",
      "None\n",
      "Epoch 1/10\n",
      "31/31 [==============================] - 66s 906ms/step - loss: 1.9500 - accuracy: 0.3764 - val_loss: 1.6521 - val_accuracy: 0.4751\n",
      "Epoch 2/10\n",
      "31/31 [==============================] - 13s 433ms/step - loss: 1.1430 - accuracy: 0.6319 - val_loss: 1.2645 - val_accuracy: 0.5656\n",
      "Epoch 3/10\n",
      "31/31 [==============================] - 14s 451ms/step - loss: 0.9494 - accuracy: 0.6991 - val_loss: 1.1707 - val_accuracy: 0.5973\n",
      "Epoch 4/10\n",
      "31/31 [==============================] - 13s 428ms/step - loss: 0.7906 - accuracy: 0.7404 - val_loss: 1.1091 - val_accuracy: 0.6290\n",
      "Epoch 5/10\n",
      "31/31 [==============================] - 14s 435ms/step - loss: 0.7389 - accuracy: 0.7673 - val_loss: 1.0595 - val_accuracy: 0.6606\n",
      "Epoch 6/10\n",
      "31/31 [==============================] - 14s 438ms/step - loss: 0.7158 - accuracy: 0.7932 - val_loss: 0.9982 - val_accuracy: 0.6561\n",
      "Epoch 7/10\n",
      "31/31 [==============================] - 13s 431ms/step - loss: 0.6170 - accuracy: 0.8252 - val_loss: 1.1180 - val_accuracy: 0.6516\n",
      "Epoch 8/10\n",
      "31/31 [==============================] - 13s 427ms/step - loss: 0.5960 - accuracy: 0.8211 - val_loss: 0.9945 - val_accuracy: 0.7014\n",
      "Epoch 9/10\n",
      "31/31 [==============================] - 13s 428ms/step - loss: 0.5758 - accuracy: 0.8149 - val_loss: 0.8733 - val_accuracy: 0.7240\n",
      "Epoch 10/10\n",
      "31/31 [==============================] - 14s 436ms/step - loss: 0.5053 - accuracy: 0.8552 - val_loss: 1.0472 - val_accuracy: 0.6878\n"
     ]
    },
    {
     "data": {
      "text/plain": [
       "<keras.callbacks.History at 0x2a0da758850>"
      ]
     },
     "execution_count": 6,
     "metadata": {},
     "output_type": "execute_result"
    }
   ],
   "source": [
    "#MODEL fit\n",
    "model = create_InceptionResNetV2_model()\n",
    "model.fit(train_generator, epochs=10, validation_data=test_generator)\n"
   ]
  },
  {
   "cell_type": "code",
   "execution_count": 7,
   "metadata": {},
   "outputs": [
    {
     "name": "stdout",
     "output_type": "stream",
     "text": [
      "7/7 [==============================] - 10s 115ms/step\n"
     ]
    }
   ],
   "source": [
    "#predict\n",
    "predictions = model.predict(test_generator)\n",
    "\n"
   ]
  },
  {
   "cell_type": "code",
   "execution_count": 8,
   "metadata": {},
   "outputs": [],
   "source": [
    "#saving predictions in csv file\n",
    "np.savetxt(\"../model_saved_files/predictions/InceptionResNetV2_predictions.csv\", predictions, delimiter=\",\")\n",
    "\n",
    "# Save the model\n",
    "# model.save(\"../model_saved_files/models_weights/InceptionResNetV2.h5\")"
   ]
  }
 ],
 "metadata": {
  "kernelspec": {
   "display_name": "Python 3",
   "language": "python",
   "name": "python3"
  },
  "language_info": {
   "codemirror_mode": {
    "name": "ipython",
    "version": 3
   },
   "file_extension": ".py",
   "mimetype": "text/x-python",
   "name": "python",
   "nbconvert_exporter": "python",
   "pygments_lexer": "ipython3",
   "version": "3.10.14"
  }
 },
 "nbformat": 4,
 "nbformat_minor": 2
}
