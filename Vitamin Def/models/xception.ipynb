{
 "cells": [
  {
   "cell_type": "code",
   "execution_count": 7,
   "metadata": {},
   "outputs": [],
   "source": [
    "import numpy as np\n",
    "from sklearn.ensemble import VotingClassifier\n",
    "from sklearn.metrics import accuracy_score\n",
    "from sklearn.base import BaseEstimator, ClassifierMixin\n",
    "from tensorflow.keras.models import Sequential\n",
    "from tensorflow.keras.layers import GlobalAveragePooling2D, Dense, Dropout, BatchNormalization\n",
    "from tensorflow.keras.applications import Xception\n",
    "from tensorflow.keras.preprocessing.image import ImageDataGenerator\n",
    "from tensorflow.keras.wrappers.scikit_learn import KerasClassifier"
   ]
  },
  {
   "cell_type": "code",
   "execution_count": 8,
   "metadata": {},
   "outputs": [],
   "source": [
    "# Define image dimensions and batch size\n",
    "img_height, img_width = 128, 128\n",
    "batch_size = 32\n",
    "# Define directories for training and testing data\n",
    "train_data_dir = \"../dataset/train\"\n",
    "test_data_dir = \"../dataset/test\""
   ]
  },
  {
   "cell_type": "code",
   "execution_count": 9,
   "metadata": {},
   "outputs": [],
   "source": [
    "# Data augmentation for training images\n",
    "train_datagen = ImageDataGenerator(\n",
    "    shear_range=0.2,\n",
    "    zoom_range=0.2,\n",
    "    horizontal_flip=True,\n",
    "    rescale=1./255  # Normalize pixel values\n",
    ")\n",
    "\n",
    "# Data augmentation for testing images (only rescale)\n",
    "test_datagen = ImageDataGenerator(rescale=1./255)\n"
   ]
  },
  {
   "cell_type": "code",
   "execution_count": 10,
   "metadata": {},
   "outputs": [
    {
     "name": "stdout",
     "output_type": "stream",
     "text": [
      "Found 1174 images belonging to 14 classes.\n",
      "Found 428 images belonging to 14 classes.\n"
     ]
    }
   ],
   "source": [
    "# Create data generators for training and testing\n",
    "train_generator = train_datagen.flow_from_directory(\n",
    "    train_data_dir,\n",
    "    target_size=(img_height, img_width),\n",
    "    batch_size=batch_size,\n",
    "    class_mode='categorical'\n",
    ")\n",
    "\n",
    "test_generator = test_datagen.flow_from_directory(\n",
    "    test_data_dir,\n",
    "    target_size=(img_height, img_width),\n",
    "    batch_size=batch_size,\n",
    "    class_mode='categorical',\n",
    "    shuffle=False  # No need to shuffle for evaluation\n",
    ")\n",
    "\n"
   ]
  },
  {
   "cell_type": "code",
   "execution_count": 11,
   "metadata": {},
   "outputs": [],
   "source": [
    "# Define the VGG16 base model\n",
    "def create_Xception_model():\n",
    "    Xception_model = Xception(\n",
    "        include_top=False, \n",
    "        input_shape=(img_height, img_width, 3)\n",
    "        )\n",
    "    Xception_model.trainable = False\n",
    "\n",
    "    model = Sequential([\n",
    "        Xception_model,\n",
    "        GlobalAveragePooling2D(),\n",
    "        Dense(64, activation='relu'),\n",
    "        BatchNormalization(),\n",
    "        Dropout(0.2),\n",
    "        Dense(14, activation='sigmoid')\n",
    "    ])\n",
    "    model.compile(optimizer='adam', loss='categorical_crossentropy', metrics=['accuracy'])\n",
    "    print(model.summary())\n",
    "    return model\n",
    "\n",
    "\n"
   ]
  },
  {
   "cell_type": "code",
   "execution_count": 12,
   "metadata": {},
   "outputs": [
    {
     "name": "stdout",
     "output_type": "stream",
     "text": [
      "Model: \"sequential_1\"\n",
      "_________________________________________________________________\n",
      " Layer (type)                Output Shape              Param #   \n",
      "=================================================================\n",
      " xception (Functional)       (None, 4, 4, 2048)        20861480  \n",
      "                                                                 \n",
      " global_average_pooling2d_1   (None, 2048)             0         \n",
      " (GlobalAveragePooling2D)                                        \n",
      "                                                                 \n",
      " dense_2 (Dense)             (None, 64)                131136    \n",
      "                                                                 \n",
      " batch_normalization_9 (Batc  (None, 64)               256       \n",
      " hNormalization)                                                 \n",
      "                                                                 \n",
      " dropout_1 (Dropout)         (None, 64)                0         \n",
      "                                                                 \n",
      " dense_3 (Dense)             (None, 14)                910       \n",
      "                                                                 \n",
      "=================================================================\n",
      "Total params: 20,993,782\n",
      "Trainable params: 132,174\n",
      "Non-trainable params: 20,861,608\n",
      "_________________________________________________________________\n",
      "None\n",
      "Epoch 1/15\n",
      "37/37 [==============================] - 26s 499ms/step - loss: 2.0351 - accuracy: 0.3578 - val_loss: 1.7125 - val_accuracy: 0.3668\n",
      "Epoch 2/15\n",
      "37/37 [==============================] - 15s 399ms/step - loss: 1.2233 - accuracy: 0.5886 - val_loss: 1.2526 - val_accuracy: 0.5724\n",
      "Epoch 3/15\n",
      "37/37 [==============================] - 15s 400ms/step - loss: 1.0042 - accuracy: 0.6738 - val_loss: 1.0575 - val_accuracy: 0.6916\n",
      "Epoch 4/15\n",
      "37/37 [==============================] - 15s 397ms/step - loss: 0.8857 - accuracy: 0.7104 - val_loss: 0.9988 - val_accuracy: 0.7056\n",
      "Epoch 5/15\n",
      "37/37 [==============================] - 15s 398ms/step - loss: 0.7649 - accuracy: 0.7572 - val_loss: 0.9614 - val_accuracy: 0.6846\n",
      "Epoch 6/15\n",
      "37/37 [==============================] - 15s 395ms/step - loss: 0.6569 - accuracy: 0.8041 - val_loss: 0.9405 - val_accuracy: 0.7220\n",
      "Epoch 7/15\n",
      "37/37 [==============================] - 15s 396ms/step - loss: 0.6230 - accuracy: 0.8211 - val_loss: 0.8927 - val_accuracy: 0.7360\n",
      "Epoch 8/15\n",
      "37/37 [==============================] - 15s 397ms/step - loss: 0.5846 - accuracy: 0.8203 - val_loss: 0.9383 - val_accuracy: 0.7033\n",
      "Epoch 9/15\n",
      "37/37 [==============================] - 15s 400ms/step - loss: 0.5559 - accuracy: 0.8152 - val_loss: 0.8313 - val_accuracy: 0.7617\n",
      "Epoch 10/15\n",
      "37/37 [==============================] - 15s 395ms/step - loss: 0.5223 - accuracy: 0.8365 - val_loss: 0.8335 - val_accuracy: 0.7360\n",
      "Epoch 11/15\n",
      "37/37 [==============================] - 15s 398ms/step - loss: 0.4802 - accuracy: 0.8543 - val_loss: 0.8403 - val_accuracy: 0.7266\n",
      "Epoch 12/15\n",
      "37/37 [==============================] - 15s 398ms/step - loss: 0.4244 - accuracy: 0.8765 - val_loss: 0.8113 - val_accuracy: 0.7734\n",
      "Epoch 13/15\n",
      "37/37 [==============================] - 15s 402ms/step - loss: 0.4290 - accuracy: 0.8620 - val_loss: 0.7912 - val_accuracy: 0.7570\n",
      "Epoch 14/15\n",
      "37/37 [==============================] - 15s 400ms/step - loss: 0.4107 - accuracy: 0.8646 - val_loss: 0.7762 - val_accuracy: 0.7664\n",
      "Epoch 15/15\n",
      "37/37 [==============================] - 15s 397ms/step - loss: 0.4098 - accuracy: 0.8680 - val_loss: 0.8445 - val_accuracy: 0.7220\n"
     ]
    },
    {
     "data": {
      "text/plain": [
       "<keras.callbacks.History at 0x1cf50b7e1d0>"
      ]
     },
     "execution_count": 12,
     "metadata": {},
     "output_type": "execute_result"
    }
   ],
   "source": [
    "#MODEL fit\n",
    "model = create_Xception_model()\n",
    "model.fit(train_generator, epochs=15, validation_data=test_generator)\n"
   ]
  },
  {
   "cell_type": "code",
   "execution_count": 13,
   "metadata": {},
   "outputs": [
    {
     "name": "stdout",
     "output_type": "stream",
     "text": [
      "14/14 [==============================] - 4s 95ms/step\n"
     ]
    }
   ],
   "source": [
    "#predict\n",
    "predictions = model.predict(test_generator)\n",
    "\n"
   ]
  },
  {
   "cell_type": "code",
   "execution_count": 14,
   "metadata": {},
   "outputs": [
    {
     "name": "stdout",
     "output_type": "stream",
     "text": [
      "0.7219626168224299\n"
     ]
    }
   ],
   "source": [
    "#calculate accuracy\n",
    "accuracy = accuracy_score(test_generator.classes, np.argmax(predictions, axis=1))\n",
    "print(accuracy)"
   ]
  }
 ],
 "metadata": {
  "kernelspec": {
   "display_name": "Python 3",
   "language": "python",
   "name": "python3"
  },
  "language_info": {
   "codemirror_mode": {
    "name": "ipython",
    "version": 3
   },
   "file_extension": ".py",
   "mimetype": "text/x-python",
   "name": "python",
   "nbconvert_exporter": "python",
   "pygments_lexer": "ipython3",
   "version": "3.10.14"
  }
 },
 "nbformat": 4,
 "nbformat_minor": 2
}
