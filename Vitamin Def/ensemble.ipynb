{
 "cells": [
  {
   "cell_type": "code",
   "execution_count": null,
   "metadata": {},
   "outputs": [],
   "source": [
    "import numpy as np\n",
    "from sklearn.ensemble import VotingClassifier\n",
    "from sklearn.metrics import accuracy_score\n",
    "from sklearn.base import BaseEstimator, ClassifierMixin\n",
    "from tensorflow.keras.models import Sequential\n",
    "from tensorflow.keras.layers import GlobalAveragePooling2D, Dense, Dropout, BatchNormalization\n",
    "from tensorflow.keras.applications import ResNet50, VGG16\n",
    "from tensorflow.keras.preprocessing.image import ImageDataGenerator\n",
    "from tensorflow.keras.wrappers.scikit_learn import KerasClassifier"
   ]
  },
  {
   "cell_type": "code",
   "execution_count": null,
   "metadata": {},
   "outputs": [],
   "source": [
    "# Define image dimensions and batch size\n",
    "img_height, img_width = 128, 128\n",
    "batch_size = 32\n",
    "\n",
    "# Define directories for training and testing data\n",
    "train_data_dir = \"dataset/train\"\n",
    "test_data_dir = \"dataset/test\"\n"
   ]
  },
  {
   "cell_type": "code",
   "execution_count": null,
   "metadata": {},
   "outputs": [],
   "source": [
    "# Data augmentation for training images\n",
    "train_datagen = ImageDataGenerator(\n",
    "    shear_range=0.2,\n",
    "    zoom_range=0.2,\n",
    "    horizontal_flip=True,\n",
    "    rescale=1./255  # Normalize pixel values\n",
    ")\n",
    "# Data augmentation for testing images (only rescale)\n",
    "test_datagen = ImageDataGenerator(rescale=1./255)\n"
   ]
  },
  {
   "cell_type": "code",
   "execution_count": null,
   "metadata": {},
   "outputs": [],
   "source": [
    "# Create data generators for training and testing\n",
    "train_generator = train_datagen.flow_from_directory(\n",
    "    train_data_dir,\n",
    "    target_size=(img_height, img_width),\n",
    "    batch_size=batch_size,\n",
    "    class_mode='categorical'\n",
    ")\n",
    "\n",
    "test_generator = test_datagen.flow_from_directory(\n",
    "    test_data_dir,\n",
    "    target_size=(img_height, img_width),\n",
    "    batch_size=batch_size,\n",
    "    class_mode='categorical',\n",
    "    shuffle=False  # No need to shuffle for evaluation\n",
    ")\n"
   ]
  },
  {
   "cell_type": "code",
   "execution_count": null,
   "metadata": {},
   "outputs": [],
   "source": [
    "# Define the ResNet50 base model\n",
    "def create_resnet_model():\n",
    "    resnet_model = ResNet50(\n",
    "        input_shape=(img_height, img_width, 3),  # Adjust input shape\n",
    "        include_top=False,  # Exclude the fully-connected layers\n",
    "        weights='imagenet'  # Pre-trained on ImageNet\n",
    "    )\n",
    "    resnet_model.trainable = False\n",
    "\n",
    "    model = Sequential([\n",
    "        resnet_model,\n",
    "        GlobalAveragePooling2D(),\n",
    "        Dense(64, activation='relu'),\n",
    "        BatchNormalization(),\n",
    "        Dropout(0.2),\n",
    "        Dense(14, activation='sigmoid')\n",
    "    ])\n",
    "    model.compile(optimizer='adam', loss='categorical_crossentropy', metrics=['accuracy'])\n",
    "    return model\n"
   ]
  },
  {
   "cell_type": "code",
   "execution_count": null,
   "metadata": {},
   "outputs": [],
   "source": [
    "# Define the VGG16 base model\n",
    "def create_vgg_model():\n",
    "    vgg_model = VGG16(\n",
    "        input_shape=(img_height, img_width, 3),  # Adjust input shape\n",
    "        include_top=False,  # Exclude the fully-connected layers\n",
    "        weights='imagenet'  # Pre-trained on ImageNet\n",
    "    )\n",
    "    vgg_model.trainable = False\n",
    "\n",
    "    model = Sequential([\n",
    "        vgg_model,\n",
    "        GlobalAveragePooling2D(),\n",
    "        Dense(64, activation='relu'),\n",
    "        BatchNormalization(),\n",
    "        Dropout(0.2),\n",
    "        Dense(14, activation='sigmoid')\n",
    "    ])\n",
    "    model.compile(optimizer='adam', loss='categorical_crossentropy', metrics=['accuracy'])\n",
    "    return model\n"
   ]
  },
  {
   "cell_type": "code",
   "execution_count": null,
   "metadata": {},
   "outputs": [],
   "source": [
    "# Wrap Keras models as scikit-learn compatible classifiers\n",
    "resnet_classifier = KerasClassifier(build_fn=create_resnet_model, epochs=8, batch_size=batch_size, verbose=0)\n",
    "vgg_classifier = KerasClassifier(build_fn=create_vgg_model, epochs=8, batch_size=batch_size, verbose=0)\n"
   ]
  },
  {
   "cell_type": "code",
   "execution_count": null,
   "metadata": {},
   "outputs": [],
   "source": [
    "# Combine the models into a voting ensemble\n",
    "ensemble = VotingClassifier(estimators=[('resnet', resnet_classifier), ('vgg', vgg_classifier)], voting='hard')\n",
    "\n",
    "# Train the ensemble\n",
    "ensemble.fit(train_generator, train_generator.classes)"
   ]
  },
  {
   "cell_type": "code",
   "execution_count": null,
   "metadata": {},
   "outputs": [],
   "source": [
    "# Evaluate the ensemble\n",
    "predictions = ensemble.predict(test_generator)\n",
    "true_labels = test_generator.classes\n",
    "accuracy = accuracy_score(true_labels, predictions)\n",
    "print(\"Ensemble Accuracy:\", accuracy)\n"
   ]
  }
 ],
 "metadata": {
  "language_info": {
   "name": "python"
  }
 },
 "nbformat": 4,
 "nbformat_minor": 2
}
